{
 "cells": [
  {
   "attachments": {},
   "cell_type": "markdown",
   "metadata": {},
   "source": [
    "# Quantum transfer learning with Pennylane"
   ]
  },
  {
   "attachments": {},
   "cell_type": "markdown",
   "metadata": {},
   "source": [
    "Example based on the Quantum transfer learning pennylane tutorial but adapted for an NLP use case.\n",
    "\n",
    "https://pennylane.ai/qml/demos/tutorial_quantum_transfer_learning"
   ]
  },
  {
   "attachments": {},
   "cell_type": "markdown",
   "metadata": {},
   "source": [
    "Idea: Instead of reducing the dimension of our BERT embeddings to the number of qubits of our model, we can use an AmplitudeEmbedding. Thus we need a minimum of log2(768)=9.58 < 10 qubits."
   ]
  },
  {
   "cell_type": "code",
   "execution_count": 1,
   "metadata": {},
   "outputs": [],
   "source": [
    "import pandas as pd\n",
    "from sklearn.preprocessing import OneHotEncoder\n",
    "from tqdm import tqdm\n",
    "from sklearn.model_selection import train_test_split\n",
    "\n",
    "# PyTorch\n",
    "import torch\n",
    "import torch.nn as nn\n",
    "import torch.optim as optim\n",
    "from torch.optim import lr_scheduler\n",
    "from torch.utils.data import Dataset, DataLoader\n",
    "\n",
    "# Pennylane\n",
    "import pennylane as qml\n",
    "from pennylane import numpy as np\n",
    "\n",
    "\n",
    "# Plotting\n",
    "import matplotlib.pyplot as plt"
   ]
  },
  {
   "cell_type": "code",
   "execution_count": 2,
   "metadata": {},
   "outputs": [],
   "source": [
    "def seed_everything(seed: int):\n",
    "    import random, os\n",
    "    import numpy as np\n",
    "    import torch\n",
    "    \n",
    "    random.seed(seed)\n",
    "    os.environ['PYTHONHASHSEED'] = str(seed)\n",
    "    np.random.seed(seed)\n",
    "    torch.manual_seed(seed)\n",
    "    torch.cuda.manual_seed(seed)\n",
    "    torch.backends.cudnn.deterministic = True\n",
    "    torch.backends.cudnn.benchmark = True\n",
    "    torch.mps.manual_seed(seed)"
   ]
  },
  {
   "cell_type": "code",
   "execution_count": 3,
   "metadata": {},
   "outputs": [],
   "source": [
    "seed_everything(0)"
   ]
  },
  {
   "attachments": {},
   "cell_type": "markdown",
   "metadata": {},
   "source": [
    "## Setting of the main hyper-parameters of the model"
   ]
  },
  {
   "cell_type": "code",
   "execution_count": 4,
   "metadata": {},
   "outputs": [],
   "source": [
    "n_qubits = 10                # Number of qubits\n",
    "q_depth = 6                 # Depth of the quantum circuit (number of variational layers)\n",
    "q_delta = 0.01              # Initial spread of random quantum weights"
   ]
  },
  {
   "cell_type": "code",
   "execution_count": 5,
   "metadata": {},
   "outputs": [],
   "source": [
    "BATCH_SIZE = 2048\n",
    "EPOCHS = 50\n",
    "LR = 2e-1\n",
    "GAMMA_LR = 0.5    # Learning rate reduction applied every STEP_LR epochs.\n",
    "STEP_LR = 20\n",
    "WEIGHT_DECAY = 0"
   ]
  },
  {
   "cell_type": "code",
   "execution_count": 6,
   "metadata": {},
   "outputs": [],
   "source": [
    "dev = qml.device(\"default.qubit\", wires=n_qubits)"
   ]
  },
  {
   "cell_type": "code",
   "execution_count": 7,
   "metadata": {},
   "outputs": [
    {
     "name": "stdout",
     "output_type": "stream",
     "text": [
      "Device used: cpu\n"
     ]
    }
   ],
   "source": [
    "device = torch.device(\"cuda:0\" if torch.cuda.is_available() else \"cpu\")\n",
    "\n",
    "#Pennylane doesnt seem to support Mac Apple Silicon yet\n",
    "#device = torch.device(\"mps\" if torch.backends.mps.is_available() else \"cpu\")\n",
    "\n",
    "print('Device used:', device)\n"
   ]
  },
  {
   "attachments": {},
   "cell_type": "markdown",
   "metadata": {},
   "source": [
    "## Dataset loading"
   ]
  },
  {
   "attachments": {},
   "cell_type": "markdown",
   "metadata": {},
   "source": [
    "As input we have a dataset of sentences, their corresponding sentiment (1 or 2) and their BERT embedding (768 dimensions)"
   ]
  },
  {
   "cell_type": "code",
   "execution_count": 8,
   "metadata": {},
   "outputs": [
    {
     "data": {
      "text/html": [
       "<div>\n",
       "<style scoped>\n",
       "    .dataframe tbody tr th:only-of-type {\n",
       "        vertical-align: middle;\n",
       "    }\n",
       "\n",
       "    .dataframe tbody tr th {\n",
       "        vertical-align: top;\n",
       "    }\n",
       "\n",
       "    .dataframe thead th {\n",
       "        text-align: right;\n",
       "    }\n",
       "</style>\n",
       "<table border=\"1\" class=\"dataframe\">\n",
       "  <thead>\n",
       "    <tr style=\"text-align: right;\">\n",
       "      <th></th>\n",
       "      <th>class</th>\n",
       "      <th>sentence</th>\n",
       "      <th>sentence_embedding</th>\n",
       "    </tr>\n",
       "  </thead>\n",
       "  <tbody>\n",
       "    <tr>\n",
       "      <th>0</th>\n",
       "      <td>1</td>\n",
       "      <td>this one seemed inappropriate</td>\n",
       "      <td>[-7.07429171e-01 -9.20562893e-02  5.68922281e-...</td>\n",
       "    </tr>\n",
       "    <tr>\n",
       "      <th>1</th>\n",
       "      <td>1</td>\n",
       "      <td>Its Time Has Passed</td>\n",
       "      <td>[-0.93544328 -0.35473078 -0.44945127  0.866203...</td>\n",
       "    </tr>\n",
       "    <tr>\n",
       "      <th>2</th>\n",
       "      <td>1</td>\n",
       "      <td>This documentary is offensive</td>\n",
       "      <td>[-8.98015499e-01 -3.35524023e-01  5.96269146e-...</td>\n",
       "    </tr>\n",
       "    <tr>\n",
       "      <th>3</th>\n",
       "      <td>2</td>\n",
       "      <td>this one was ok</td>\n",
       "      <td>[-7.29380667e-01 -1.04420066e-01  7.20309854e-...</td>\n",
       "    </tr>\n",
       "    <tr>\n",
       "      <th>4</th>\n",
       "      <td>2</td>\n",
       "      <td>The lyrics are incredible</td>\n",
       "      <td>[-8.35999787e-01 -2.15908080e-01  1.77436873e-...</td>\n",
       "    </tr>\n",
       "  </tbody>\n",
       "</table>\n",
       "</div>"
      ],
      "text/plain": [
       "   class                       sentence  \\\n",
       "0      1  this one seemed inappropriate   \n",
       "1      1            Its Time Has Passed   \n",
       "2      1  This documentary is offensive   \n",
       "3      2                this one was ok   \n",
       "4      2      The lyrics are incredible   \n",
       "\n",
       "                                  sentence_embedding  \n",
       "0  [-7.07429171e-01 -9.20562893e-02  5.68922281e-...  \n",
       "1  [-0.93544328 -0.35473078 -0.44945127  0.866203...  \n",
       "2  [-8.98015499e-01 -3.35524023e-01  5.96269146e-...  \n",
       "3  [-7.29380667e-01 -1.04420066e-01  7.20309854e-...  \n",
       "4  [-8.35999787e-01 -2.15908080e-01  1.77436873e-...  "
      ]
     },
     "execution_count": 8,
     "metadata": {},
     "output_type": "execute_result"
    }
   ],
   "source": [
    "df_dataset = pd.read_csv('../../../../data/amazonreview_reduced_bert_train_sentence.csv')\n",
    "df_dataset.head(5)"
   ]
  },
  {
   "attachments": {},
   "cell_type": "markdown",
   "metadata": {},
   "source": [
    "We can observe that the dataset is almost perfectly balanced (51.8% and 48.2%). Thus the accuracy should be a good metric to evaluate our model."
   ]
  },
  {
   "cell_type": "code",
   "execution_count": 9,
   "metadata": {},
   "outputs": [
    {
     "name": "stdout",
     "output_type": "stream",
     "text": [
      "2    1815\n",
      "1    1685\n",
      "Name: class, dtype: int64\n"
     ]
    }
   ],
   "source": [
    "print(df_dataset[\"class\"].value_counts())"
   ]
  },
  {
   "cell_type": "code",
   "execution_count": 10,
   "metadata": {},
   "outputs": [],
   "source": [
    "def preprocess_dataset(csv_file):\n",
    "    \"\"\"\n",
    "    Preprocess function for the dataset + Create train/test split\n",
    "    \"\"\"\n",
    "    df_dataset = pd.read_csv(csv_file)\n",
    "\n",
    "    df_dataset['sentence_embedding'] = np.array([np.fromstring(embedding.strip(' []'), sep=' ') for embedding in df_dataset['sentence_embedding']]).numpy().tolist()\n",
    "\n",
    "    #Preprocess labels\n",
    "    enc = OneHotEncoder(handle_unknown='ignore')\n",
    "    enc.fit(df_dataset['class'].values.reshape(-1, 1))\n",
    "    df_dataset['class'] = enc.transform(df_dataset['class'].values.reshape(-1, 1)).toarray().tolist()\n",
    "\n",
    "    X_train, X_test, y_train, y_test = train_test_split(df_dataset['sentence_embedding'], df_dataset['class'], test_size=0.2)\n",
    "\n",
    "    return X_train, X_test, y_train, y_test\n",
    "\n"
   ]
  },
  {
   "cell_type": "code",
   "execution_count": 11,
   "metadata": {},
   "outputs": [],
   "source": [
    "class BertEmbeddingDataset(Dataset):\n",
    "    \"\"\"Bert Embedding dataset.\"\"\"\n",
    "\n",
    "    def __init__(self, X, Y):\n",
    "        self.X = X\n",
    "        self.Y = Y\n",
    "\n",
    "\n",
    "    def __len__(self):\n",
    "        return len(self.X)\n",
    "\n",
    "    def __getitem__(self, idx):\n",
    "        if torch.is_tensor(idx):\n",
    "            idx = idx.tolist()\n",
    "\n",
    "        return torch.Tensor(self.X.iloc[idx]), torch.Tensor(self.Y.iloc[idx])"
   ]
  },
  {
   "cell_type": "code",
   "execution_count": 12,
   "metadata": {},
   "outputs": [],
   "source": [
    "X_train, X_test, y_train, y_test = preprocess_dataset('../../../../data/amazonreview_reduced_bert_train_sentence.csv')"
   ]
  },
  {
   "cell_type": "code",
   "execution_count": 13,
   "metadata": {},
   "outputs": [],
   "source": [
    "train_dataset = BertEmbeddingDataset(X_train, y_train)\n",
    "training_dataloader = DataLoader(train_dataset, batch_size=BATCH_SIZE, shuffle=True)\n",
    "\n",
    "validation_dataset = BertEmbeddingDataset(X_test, y_test)\n",
    "validation_dataloader = DataLoader(validation_dataset, batch_size=BATCH_SIZE, shuffle=True)"
   ]
  },
  {
   "attachments": {},
   "cell_type": "markdown",
   "metadata": {},
   "source": [
    "## Variational quantum circuit\n"
   ]
  },
  {
   "cell_type": "code",
   "execution_count": 14,
   "metadata": {},
   "outputs": [],
   "source": [
    "def H_layer(nqubits):\n",
    "    \"\"\"Layer of single-qubit Hadamard gates.\n",
    "    \"\"\"\n",
    "    for idx in range(nqubits):\n",
    "        qml.Hadamard(wires=idx)\n",
    "\n",
    "\n",
    "def RY_layer(w):\n",
    "    \"\"\"Layer of parametrized qubit rotations around the y axis.\n",
    "    \"\"\"\n",
    "    for idx, element in enumerate(w):\n",
    "        qml.RY(element, wires=idx)\n",
    "\n",
    "\n",
    "def entangling_layer(nqubits):\n",
    "    \"\"\"Layer of CNOTs followed by another shifted layer of CNOT.\n",
    "    \"\"\"\n",
    "    # In other words it should apply something like :\n",
    "    # CNOT  CNOT  CNOT  CNOT...  CNOT\n",
    "    #   CNOT  CNOT  CNOT...  CNOT\n",
    "    for i in range(0, nqubits - 1, 2):  # Loop over even indices: i=0,2,...N-2\n",
    "        qml.CNOT(wires=[i, i + 1])\n",
    "    for i in range(1, nqubits - 1, 2):  # Loop over odd indices:  i=1,3,...N-3\n",
    "        qml.CNOT(wires=[i, i + 1])"
   ]
  },
  {
   "cell_type": "code",
   "execution_count": 15,
   "metadata": {},
   "outputs": [],
   "source": [
    "@qml.qnode(dev, interface=\"torch\")\n",
    "def quantum_net(q_input_features, q_weights_flat):\n",
    "    \"\"\"\n",
    "    The variational quantum circuit.\n",
    "    \"\"\"\n",
    "\n",
    "    \n",
    "\n",
    "    # Reshape weights\n",
    "    q_weights = q_weights_flat.reshape(q_depth, n_qubits)\n",
    "\n",
    "    # Start from state |+> , unbiased w.r.t. |0> and |1>\n",
    "    #H_layer(n_qubits)\n",
    "\n",
    "    # Embed features in the quantum node\n",
    "    #RY_layer(q_input_features)\n",
    "    qml.AmplitudeEmbedding(features=q_input_features, wires=range(n_qubits), normalize=True, pad_with=0.)\n",
    "\n",
    "    # Sequence of trainable variational layers\n",
    "    for k in range(q_depth):\n",
    "        entangling_layer(n_qubits)\n",
    "        RY_layer(q_weights[k])\n",
    "\n",
    "    # Expectation values in the Z basis\n",
    "    exp_vals = [qml.expval(qml.PauliZ(position)) for position in range(n_qubits)]\n",
    "    return tuple(exp_vals)"
   ]
  },
  {
   "attachments": {},
   "cell_type": "markdown",
   "metadata": {},
   "source": [
    "## Dressed quantum circuit"
   ]
  },
  {
   "attachments": {},
   "cell_type": "markdown",
   "metadata": {},
   "source": [
    "This is a concatenation of:\n",
    "\n",
    "* A classical pre-processing layer (nn.Linear).\n",
    "* A classical activation function (torch.tanh).\n",
    "* A constant np.pi/2.0 scaling.\n",
    "* The previously defined quantum circuit (quantum_net).\n",
    "* A classical post-processing layer (nn.Linear).\n",
    "* A classical activation function (torch.sigmoid)."
   ]
  },
  {
   "cell_type": "code",
   "execution_count": 16,
   "metadata": {},
   "outputs": [],
   "source": [
    "class DressedQuantumNet(nn.Module):\n",
    "    \"\"\"\n",
    "    Torch module implementing the *dressed* quantum net.\n",
    "    \"\"\"\n",
    "\n",
    "    def __init__(self):\n",
    "        \"\"\"\n",
    "        Definition of the *dressed* layout.\n",
    "        \"\"\"\n",
    "\n",
    "        super().__init__()\n",
    "        #self.pre_net = nn.Linear(768, n_qubits)\n",
    "        self.q_params = nn.Parameter(q_delta * torch.randn(q_depth * n_qubits))\n",
    "        self.post_net = nn.Linear(n_qubits, 2)\n",
    "        self.sigmoid = nn.Sigmoid()\n",
    "\n",
    "    def forward(self, input_features):\n",
    "        \"\"\"\n",
    "        Defining how tensors are supposed to move through the *dressed* quantum\n",
    "        net.\n",
    "        \"\"\"\n",
    "\n",
    "        # obtain the input features for the quantum circuit\n",
    "        # by reducing the feature dimension from 512 to 4\n",
    "        #pre_out = self.pre_net(input_features)\n",
    "        #q_in = torch.tanh(pre_out) * np.pi / 2.0\n",
    "        q_in = input_features\n",
    "\n",
    "        # Apply the quantum circuit to each element of the batch and append to q_out\n",
    "        q_out = torch.Tensor(0, n_qubits)\n",
    "        q_out = q_out.to(device)\n",
    "        for elem in q_in:\n",
    "            q_out_elem = torch.hstack(quantum_net(elem, self.q_params)).float().unsqueeze(0)\n",
    "            q_out = torch.cat((q_out, q_out_elem))\n",
    "\n",
    "        # return the two-dimensional prediction from the postprocessing layer\n",
    "        return self.sigmoid(self.post_net(q_out))"
   ]
  },
  {
   "cell_type": "code",
   "execution_count": 17,
   "metadata": {},
   "outputs": [],
   "source": [
    "model_hybrid = DressedQuantumNet()\n",
    "\n",
    "# Use CUDA or CPU according to the \"device\" object.\n",
    "model_hybrid = model_hybrid.to(device)"
   ]
  },
  {
   "cell_type": "code",
   "execution_count": 18,
   "metadata": {},
   "outputs": [
    {
     "name": "stdout",
     "output_type": "stream",
     "text": [
      "torch.Size([60])\n"
     ]
    }
   ],
   "source": [
    "print(model_hybrid.q_params.shape)"
   ]
  },
  {
   "attachments": {},
   "cell_type": "markdown",
   "metadata": {},
   "source": [
    "## Training and results"
   ]
  },
  {
   "attachments": {},
   "cell_type": "markdown",
   "metadata": {},
   "source": [
    "Here we use a Binary Cross Entropy Loss, an Adam optimizer and a scheduler reducing the learning rate at an exponentially rate. "
   ]
  },
  {
   "cell_type": "code",
   "execution_count": 19,
   "metadata": {},
   "outputs": [],
   "source": [
    "criterion = nn.BCELoss()\n",
    "optimizer_hybrid = optim.Adam(model_hybrid.parameters(), lr=LR, weight_decay=WEIGHT_DECAY)\n",
    "exp_lr_scheduler = lr_scheduler.StepLR(\n",
    "    optimizer_hybrid, step_size=STEP_LR, gamma=GAMMA_LR\n",
    ")\n",
    "\n",
    "#exp_lr_scheduler = lr_scheduler.CosineAnnealingLR(\n",
    "#    optimizer_hybrid, T_max=EPOCHS, eta_min=1e-5)\n",
    "\n"
   ]
  },
  {
   "attachments": {},
   "cell_type": "markdown",
   "metadata": {},
   "source": [
    "We use tensorboard to log the hyperparameters, the loss and the accuracy of the model:"
   ]
  },
  {
   "cell_type": "code",
   "execution_count": 20,
   "metadata": {},
   "outputs": [],
   "source": [
    "from torch.utils.tensorboard import SummaryWriter\n",
    "import datetime\n",
    "\n",
    "log_dir = \"logs/fit_pennylane_with_amplitude_embeddings/\" + datetime.datetime.now().strftime(\"%Y%m%d-%H%M%S\")\n",
    "summary_writer = SummaryWriter(log_dir=log_dir)"
   ]
  },
  {
   "cell_type": "code",
   "execution_count": 21,
   "metadata": {},
   "outputs": [
    {
     "name": "stderr",
     "output_type": "stream",
     "text": [
      "Training: 100%|██████████| 2/2 [01:42<00:00, 51.33s/it, loss=0.697, acc=0.528]\n",
      "Validation: 100%|██████████| 1/1 [00:12<00:00, 12.85s/it, loss=0.690, acc=0.554]\n",
      "Training: 100%|██████████| 2/2 [01:37<00:00, 48.99s/it, loss=0.694, acc=0.492]5]\n",
      "Validation: 100%|██████████| 1/1 [00:11<00:00, 11.96s/it, loss=0.692, acc=0.549]\n",
      "Training: 100%|██████████| 2/2 [01:34<00:00, 47.47s/it, loss=0.699, acc=0.476]5]\n",
      "Validation: 100%|██████████| 1/1 [00:12<00:00, 12.27s/it, loss=0.690, acc=0.553]\n",
      "Training: 100%|██████████| 2/2 [01:35<00:00, 47.58s/it, loss=0.691, acc=0.505]2]\n",
      "Validation: 100%|██████████| 1/1 [00:12<00:00, 12.68s/it, loss=0.695, acc=0.451]\n",
      "Training: 100%|██████████| 2/2 [01:27<00:00, 43.76s/it, loss=0.690, acc=0.594]9]\n",
      "Validation: 100%|██████████| 1/1 [00:10<00:00, 10.91s/it, loss=0.685, acc=0.554]\n",
      "Training: 100%|██████████| 2/2 [01:24<00:00, 42.15s/it, loss=0.689, acc=0.511]4]\n",
      "Validation: 100%|██████████| 1/1 [00:11<00:00, 11.04s/it, loss=0.690, acc=0.576]\n",
      "Training: 100%|██████████| 2/2 [01:22<00:00, 41.29s/it, loss=0.695, acc=0.469]3]\n",
      "Validation: 100%|██████████| 1/1 [00:10<00:00, 10.87s/it, loss=0.683, acc=0.563]\n",
      "Training: 100%|██████████| 2/2 [01:23<00:00, 41.95s/it, loss=0.693, acc=0.496]] \n",
      "Validation: 100%|██████████| 1/1 [00:11<00:00, 11.13s/it, loss=0.679, acc=0.564]\n",
      "Training: 100%|██████████| 2/2 [01:24<00:00, 42.06s/it, loss=0.684, acc=0.560]]\n",
      "Validation: 100%|██████████| 1/1 [00:10<00:00, 10.78s/it, loss=0.687, acc=0.591]\n",
      "Training: 100%|██████████| 2/2 [01:24<00:00, 42.50s/it, loss=0.682, acc=0.559]]\n",
      "Validation: 100%|██████████| 1/1 [00:10<00:00, 10.74s/it, loss=0.677, acc=0.569]\n",
      "Training: 100%|██████████| 2/2 [01:34<00:00, 47.38s/it, loss=0.677, acc=0.589]8]\n",
      "Validation: 100%|██████████| 1/1 [00:13<00:00, 13.55s/it, loss=0.675, acc=0.579]\n",
      "Training: 100%|██████████| 2/2 [01:44<00:00, 52.06s/it, loss=0.680, acc=0.541]52]\n",
      "Validation: 100%|██████████| 1/1 [00:13<00:00, 13.67s/it, loss=0.682, acc=0.594]]\n",
      "Training: 100%|██████████| 2/2 [01:46<00:00, 53.25s/it, loss=0.674, acc=0.610]63]\n",
      "Validation: 100%|██████████| 1/1 [00:14<00:00, 14.38s/it, loss=0.677, acc=0.601]]\n",
      "Training: 100%|██████████| 2/2 [01:46<00:00, 53.21s/it, loss=0.671, acc=0.585]10]\n",
      "Validation: 100%|██████████| 1/1 [00:13<00:00, 13.13s/it, loss=0.666, acc=0.580]]\n",
      "Training: 100%|██████████| 2/2 [01:49<00:00, 54.68s/it, loss=0.672, acc=0.605]10]\n",
      "Validation: 100%|██████████| 1/1 [00:14<00:00, 14.64s/it, loss=0.679, acc=0.574]]\n",
      "Training: 100%|██████████| 2/2 [01:53<00:00, 56.84s/it, loss=0.666, acc=0.636]80]\n",
      "Validation: 100%|██████████| 1/1 [00:13<00:00, 14.00s/it, loss=0.659, acc=0.581]]\n",
      "Training: 100%|██████████| 2/2 [01:47<00:00, 53.66s/it, loss=0.660, acc=0.652]13]\n",
      "Validation: 100%|██████████| 1/1 [00:14<00:00, 14.08s/it, loss=0.674, acc=0.581]]\n",
      "Training: 100%|██████████| 2/2 [01:45<00:00, 52.96s/it, loss=0.659, acc=0.656]86]\n",
      "Validation: 100%|██████████| 1/1 [00:14<00:00, 14.15s/it, loss=0.655, acc=0.573]]\n",
      "Training: 100%|██████████| 2/2 [01:46<00:00, 53.19s/it, loss=0.658, acc=0.589]21]\n",
      "Validation: 100%|██████████| 1/1 [00:14<00:00, 14.00s/it, loss=0.671, acc=0.590]]\n",
      "Training: 100%|██████████| 2/2 [01:47<00:00, 53.60s/it, loss=0.656, acc=0.649]69]\n",
      "Validation: 100%|██████████| 1/1 [00:13<00:00, 13.94s/it, loss=0.650, acc=0.633]]\n",
      "Training: 100%|██████████| 2/2 [01:45<00:00, 52.64s/it, loss=0.657, acc=0.613]23]\n",
      "Validation: 100%|██████████| 1/1 [00:13<00:00, 13.54s/it, loss=0.654, acc=0.666]]\n",
      "Training: 100%|██████████| 2/2 [01:48<00:00, 54.26s/it, loss=0.656, acc=0.629]]  \n",
      "Validation: 100%|██████████| 1/1 [00:14<00:00, 14.55s/it, loss=0.652, acc=0.663]\n",
      "Training: 100%|██████████| 2/2 [01:45<00:00, 52.70s/it, loss=0.651, acc=0.625]]\n",
      "Validation: 100%|██████████| 1/1 [00:13<00:00, 13.35s/it, loss=0.643, acc=0.641]\n",
      "Training: 100%|██████████| 2/2 [01:49<00:00, 54.60s/it, loss=0.645, acc=0.660]]\n",
      "Validation: 100%|██████████| 1/1 [00:13<00:00, 13.94s/it, loss=0.651, acc=0.647]\n",
      "Training: 100%|██████████| 2/2 [01:48<00:00, 54.04s/it, loss=0.651, acc=0.660]]\n",
      "Validation: 100%|██████████| 1/1 [00:13<00:00, 13.49s/it, loss=0.648, acc=0.666]\n",
      "Training: 100%|██████████| 2/2 [01:44<00:00, 52.06s/it, loss=0.640, acc=0.664]]\n",
      "Validation: 100%|██████████| 1/1 [00:12<00:00, 12.99s/it, loss=0.640, acc=0.654]\n",
      "Training: 100%|██████████| 2/2 [01:44<00:00, 52.48s/it, loss=0.647, acc=0.657]]\n",
      "Validation: 100%|██████████| 1/1 [00:15<00:00, 15.40s/it, loss=0.644, acc=0.670]\n",
      "Training: 100%|██████████| 2/2 [01:51<00:00, 55.92s/it, loss=0.643, acc=0.665]]\n",
      "Validation: 100%|██████████| 1/1 [00:14<00:00, 14.59s/it, loss=0.640, acc=0.680]\n",
      "Training: 100%|██████████| 2/2 [01:52<00:00, 56.02s/it, loss=0.636, acc=0.681]]\n",
      "Validation: 100%|██████████| 1/1 [00:14<00:00, 14.52s/it, loss=0.634, acc=0.670]\n",
      "Training: 100%|██████████| 2/2 [01:50<00:00, 55.02s/it, loss=0.640, acc=0.654]]\n",
      "Validation: 100%|██████████| 1/1 [00:14<00:00, 14.65s/it, loss=0.656, acc=0.610]\n",
      "Training: 100%|██████████| 2/2 [01:49<00:00, 54.97s/it, loss=0.635, acc=0.680]]\n",
      "Validation: 100%|██████████| 1/1 [00:14<00:00, 14.73s/it, loss=0.635, acc=0.617]\n",
      "Training: 100%|██████████| 2/2 [01:54<00:00, 57.10s/it, loss=0.634, acc=0.626]]\n",
      "Validation: 100%|██████████| 1/1 [00:14<00:00, 14.86s/it, loss=0.638, acc=0.674]]\n",
      "Training: 100%|██████████| 2/2 [01:54<00:00, 57.41s/it, loss=0.640, acc=0.652]09]\n",
      "Validation: 100%|██████████| 1/1 [00:15<00:00, 15.21s/it, loss=0.639, acc=0.661]]\n",
      "Training: 100%|██████████| 2/2 [01:51<00:00, 55.98s/it, loss=0.640, acc=0.646]77]\n",
      "Validation: 100%|██████████| 1/1 [00:15<00:00, 15.49s/it, loss=0.631, acc=0.681]]\n",
      "Training: 100%|██████████| 2/2 [01:51<00:00, 55.89s/it, loss=0.631, acc=0.705]63]\n",
      "Validation: 100%|██████████| 1/1 [00:15<00:00, 15.55s/it, loss=0.641, acc=0.669]]\n",
      "Training: 100%|██████████| 2/2 [01:51<00:00, 55.76s/it, loss=0.626, acc=0.693]77]\n",
      "Validation: 100%|██████████| 1/1 [00:15<00:00, 15.10s/it, loss=0.627, acc=0.680]]\n",
      "Training: 100%|██████████| 2/2 [01:51<00:00, 55.73s/it, loss=0.623, acc=0.685]82]\n",
      "Validation: 100%|██████████| 1/1 [00:13<00:00, 14.00s/it, loss=0.632, acc=0.686]]\n",
      "Training: 100%|██████████| 2/2 [01:55<00:00, 57.76s/it, loss=0.628, acc=0.678]76]\n",
      "Validation: 100%|██████████| 1/1 [00:14<00:00, 14.95s/it, loss=0.622, acc=0.677]]\n",
      "Training: 100%|██████████| 2/2 [01:49<00:00, 55.00s/it, loss=0.622, acc=0.670]76]\n",
      "Validation: 100%|██████████| 1/1 [00:14<00:00, 14.47s/it, loss=0.624, acc=0.693]]\n",
      "Training: 100%|██████████| 2/2 [01:54<00:00, 57.14s/it, loss=0.632, acc=0.680]62]\n",
      "Validation: 100%|██████████| 1/1 [00:15<00:00, 15.08s/it, loss=0.625, acc=0.689]]\n",
      "Training: 100%|██████████| 2/2 [01:45<00:00, 52.56s/it, loss=0.621, acc=0.680]91]\n",
      "Validation: 100%|██████████| 1/1 [00:12<00:00, 12.94s/it, loss=0.620, acc=0.683]]\n",
      "Training: 100%|██████████| 2/2 [01:47<00:00, 53.63s/it, loss=0.626, acc=0.680]93]\n",
      "Validation: 100%|██████████| 1/1 [00:12<00:00, 12.91s/it, loss=0.623, acc=0.687]]\n",
      "Training: 100%|██████████| 2/2 [01:45<00:00, 52.71s/it, loss=0.634, acc=0.673]79]\n",
      "Validation: 100%|██████████| 1/1 [00:13<00:00, 13.97s/it, loss=0.627, acc=0.683]]\n",
      "Training: 100%|██████████| 2/2 [01:45<00:00, 52.61s/it, loss=0.625, acc=0.678]86]\n",
      "Validation: 100%|██████████| 1/1 [00:13<00:00, 13.12s/it, loss=0.618, acc=0.686]]\n",
      "Training: 100%|██████████| 2/2 [01:47<00:00, 53.54s/it, loss=0.623, acc=0.666]85]\n",
      "Validation: 100%|██████████| 1/1 [00:13<00:00, 13.58s/it, loss=0.620, acc=0.677]]\n",
      "Training: 100%|██████████| 2/2 [01:48<00:00, 54.28s/it, loss=0.615, acc=0.713]73]\n",
      "Validation: 100%|██████████| 1/1 [00:14<00:00, 14.36s/it, loss=0.627, acc=0.690]]\n",
      "Training: 100%|██████████| 2/2 [01:47<00:00, 53.70s/it, loss=0.616, acc=0.715]81]\n",
      "Validation: 100%|██████████| 1/1 [00:13<00:00, 13.19s/it, loss=0.620, acc=0.706]]\n",
      "Training: 100%|██████████| 2/2 [01:43<00:00, 51.98s/it, loss=0.621, acc=0.698]01]\n",
      "Validation: 100%|██████████| 1/1 [00:13<00:00, 13.19s/it, loss=0.616, acc=0.703]]\n",
      "Training: 100%|██████████| 2/2 [01:46<00:00, 53.11s/it, loss=0.627, acc=0.681]98]\n",
      "Validation: 100%|██████████| 1/1 [00:13<00:00, 13.25s/it, loss=0.622, acc=0.699]]\n",
      "Training: 100%|██████████| 2/2 [01:44<00:00, 52.18s/it, loss=0.623, acc=0.689]94]\n",
      "Validation: 100%|██████████| 1/1 [00:13<00:00, 13.65s/it, loss=0.615, acc=0.699]]\n",
      "Epochs: 100%|██████████| 50/50 [1:38:25<00:00, 118.10s/it, loss=0.620, acc=0.700]\n"
     ]
    }
   ],
   "source": [
    "#Training loop\n",
    "best_val_loss = 1000\n",
    "best_val_acc = 0\n",
    "best_train_loss = 1000\n",
    "best_acc_train = 0\n",
    "\n",
    "training_loss_list = []\n",
    "validation_loss_list = []\n",
    "training_acc_list = []\n",
    "validation_acc_list = []\n",
    "print(\"Training started:\")\n",
    "\n",
    "epoch_bar = tqdm(range(EPOCHS), total=EPOCHS, desc=\"Epochs\", position=0, leave=True)\n",
    "\n",
    "for epoch in epoch_bar:\n",
    "\n",
    "    model_hybrid.train()\n",
    "\n",
    "    running_loss = 0.0\n",
    "    running_corrects = 0\n",
    "\n",
    "    # Iterate over data.\n",
    "    it = 0\n",
    "    training_bar = tqdm(training_dataloader, total=len(training_dataloader), desc=\"Training\", position=0, leave=True)\n",
    "\n",
    "    for inputs, labels in training_bar:\n",
    "        batch_size_ = len(inputs)\n",
    "        inputs = inputs.to(device)\n",
    "        labels = labels.to(device)\n",
    "        optimizer_hybrid.zero_grad()\n",
    "\n",
    "        # Track/compute gradient and make an optimization step only when training\n",
    "        with torch.set_grad_enabled(True):\n",
    "            outputs = model_hybrid(inputs)\n",
    "            _, preds = torch.max(outputs, 1)\n",
    "            loss = criterion(outputs, labels)\n",
    "            \n",
    "            \n",
    "            loss.backward()\n",
    "            optimizer_hybrid.step()\n",
    "\n",
    "        # Print iteration results\n",
    "        running_loss += loss.item()*batch_size_\n",
    "\n",
    "        batch_corrects = torch.sum(preds == torch.max(labels, 1)[1]).item()\n",
    "        running_corrects += batch_corrects\n",
    "\n",
    "        training_bar.set_postfix({\"loss\": f\"{loss:.3f}\", \"acc\": f\"{batch_corrects/batch_size_:.3f}\"})\n",
    "\n",
    "\n",
    "    # Print epoch results\n",
    "    train_loss = running_loss / len(training_dataloader.dataset)\n",
    "    train_acc = running_corrects / len(training_dataloader.dataset)\n",
    "\n",
    "    epoch_bar.set_postfix({\"loss\": f\"{train_loss:.3f}\", \"acc\": f\"{train_acc:.3f}\"})\n",
    "\n",
    "    summary_writer.add_scalar(\"Training/Loss\", train_loss, epoch)\n",
    "    summary_writer.add_scalar(\"Training/Acurracy\", train_acc, epoch)\n",
    "\n",
    "    training_loss_list.append(train_loss)\n",
    "    training_acc_list.append(train_acc)\n",
    "\n",
    "    exp_lr_scheduler.step()\n",
    "\n",
    "    if train_loss < best_train_loss:\n",
    "        best_train_loss = train_loss\n",
    "\n",
    "    if train_acc > best_acc_train:\n",
    "        best_acc_train = train_acc\n",
    "\n",
    "    \n",
    "    ## VALIDATION PHASE\n",
    "    validation_bar = tqdm(validation_dataloader, total=len(validation_dataloader), desc=\"Validation\", position=0, leave=True)\n",
    "    model_hybrid.eval()\n",
    "\n",
    "    running_loss = 0.0\n",
    "    running_corrects = 0\n",
    "\n",
    "\n",
    "    for inputs, labels in validation_bar:\n",
    "        batch_size_ = len(inputs)\n",
    "        inputs = inputs.to(device)\n",
    "        labels = labels.to(device)\n",
    "        optimizer_hybrid.zero_grad()\n",
    "\n",
    "        # Track/compute gradient and make an optimization step only when training\n",
    "        with torch.set_grad_enabled(False):\n",
    "            outputs = model_hybrid(inputs)\n",
    "            _, preds = torch.max(outputs, 1)\n",
    "            loss = criterion(outputs, labels)\n",
    "\n",
    "        # Print iteration results\n",
    "        running_loss += loss.item()*batch_size_\n",
    "        batch_corrects = torch.sum(preds == torch.max(labels, 1)[1]).item()\n",
    "        running_corrects += batch_corrects\n",
    "\n",
    "        validation_bar.set_postfix({\"loss\": f\"{loss:.3f}\", \"acc\": f\"{batch_corrects/batch_size_:.3f}\"})\n",
    "        it += 1\n",
    "\n",
    "    validation_loss = running_loss / len(validation_dataloader.dataset)\n",
    "    validation_acc = running_corrects / len(validation_dataloader.dataset)\n",
    "\n",
    "    summary_writer.add_scalar(\"Validation/Loss\", validation_loss, epoch)\n",
    "    summary_writer.add_scalar(\"Validation/Acurracy\", validation_acc, epoch)\n",
    "\n",
    "    validation_loss_list.append(validation_loss)\n",
    "    validation_acc_list.append(validation_acc)\n",
    "\n",
    "    if validation_acc > best_val_acc:\n",
    "        best_val_acc = validation_acc\n",
    "\n",
    "    if validation_loss < best_val_loss:\n",
    "        best_val_loss = validation_loss\n",
    "\n"
   ]
  },
  {
   "cell_type": "code",
   "execution_count": 22,
   "metadata": {},
   "outputs": [],
   "source": [
    "summary_writer.add_hparams({'lr': LR, 'gamma_lr': GAMMA_LR, 'step_lr': STEP_LR, 'weight_decay': WEIGHT_DECAY},\n",
    "                      {'hparam/loss_train': best_train_loss, 'hparam/acc_train': best_acc_train,\n",
    "                       'hparam/loss_valid': best_val_loss, 'hparam/acc_valid': best_val_acc})"
   ]
  },
  {
   "attachments": {},
   "cell_type": "markdown",
   "metadata": {},
   "source": [
    "## Display loss and accuracy results"
   ]
  },
  {
   "cell_type": "code",
   "execution_count": 23,
   "metadata": {},
   "outputs": [
    {
     "data": {
      "image/png": "[encoded data removed]",
      "text/plain": [
       "<Figure size 1000x500 with 2 Axes>"
      ]
     },
     "metadata": {},
     "output_type": "display_data"
    }
   ],
   "source": [
    "fig, ax1 = plt.subplots(1,2)\n",
    "\n",
    "# Plot Training and Validation Loss\n",
    "ax1[0].plot(training_loss_list, label='Training loss')\n",
    "ax1[0].plot(validation_loss_list, label='Validation loss')\n",
    "ax1[0].legend()\n",
    "ax1[0].set_ylabel('Loss')\n",
    "ax1[0].set_xlabel('Epoch')\n",
    "\n",
    "# Plot Training and Validation Accuracy\n",
    "ax1[1].plot(training_acc_list, label='Training accuracy')\n",
    "ax1[1].plot(validation_acc_list, label='Validation accuracy')\n",
    "ax1[1].legend()\n",
    "ax1[1].set_ylabel('Accuracy')\n",
    "ax1[1].set_xlabel('Epoch')\n",
    "\n",
    "\n",
    "fig.suptitle('Training results')\n",
    "fig.set_size_inches(10, 5)"
   ]
  }
 ],
 "metadata": {
  "kernelspec": {
   "display_name": "wp6-qnlp-G79kAyvs-py3.10",
   "language": "python",
   "name": "python3"
  },
  "language_info": {
   "codemirror_mode": {
    "name": "ipython",
    "version": 3
   },
   "file_extension": ".py",
   "mimetype": "text/x-python",
   "name": "python",
   "nbconvert_exporter": "python",
   "pygments_lexer": "ipython3",
   "version": "3.10.12"
  },
  "orig_nbformat": 4
 },
 "nbformat": 4,
 "nbformat_minor": 2
}
