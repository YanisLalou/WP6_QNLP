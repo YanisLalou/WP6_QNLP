{
 "cells": [
  {
   "attachments": {},
   "cell_type": "markdown",
   "metadata": {},
   "source": [
    "# Test implementation QRNN"
   ]
  },
  {
   "cell_type": "code",
   "execution_count": 1,
   "metadata": {},
   "outputs": [],
   "source": [
    "import pandas as pd\n",
    "from sklearn.preprocessing import OneHotEncoder\n",
    "from tqdm import tqdm\n",
    "from sklearn.model_selection import train_test_split\n",
    "\n",
    "# PyTorch\n",
    "import torch\n",
    "import torch.nn as nn\n",
    "import torch.optim as optim\n",
    "from torch.optim import lr_scheduler\n",
    "from torch.utils.data import Dataset, DataLoader\n",
    "\n",
    "# Pennylane\n",
    "import pennylane as qml\n",
    "from pennylane import numpy as np\n",
    "\n",
    "\n",
    "# Plotting\n",
    "import matplotlib.pyplot as plt"
   ]
  },
  {
   "cell_type": "code",
   "execution_count": 2,
   "metadata": {},
   "outputs": [],
   "source": [
    "def seed_everything(seed: int):\n",
    "    import random, os\n",
    "    import numpy as np\n",
    "    import torch\n",
    "    \n",
    "    random.seed(seed)\n",
    "    os.environ['PYTHONHASHSEED'] = str(seed)\n",
    "    np.random.seed(seed)\n",
    "    torch.manual_seed(seed)\n",
    "    torch.cuda.manual_seed(seed)\n",
    "    torch.backends.cudnn.deterministic = True\n",
    "    torch.backends.cudnn.benchmark = True\n",
    "    torch.mps.manual_seed(seed)"
   ]
  },
  {
   "cell_type": "code",
   "execution_count": 3,
   "metadata": {},
   "outputs": [],
   "source": [
    "seed_everything(0)"
   ]
  },
  {
   "attachments": {},
   "cell_type": "markdown",
   "metadata": {},
   "source": [
    "## Dataset loading"
   ]
  },
  {
   "cell_type": "code",
   "execution_count": 4,
   "metadata": {},
   "outputs": [],
   "source": [
    "def read_data(filename):\n",
    "    labels, sentences = [], []\n",
    "    with open(filename) as f:\n",
    "        for line in f:\n",
    "            t = float(line[0])\n",
    "            labels.append([t, 1-t])\n",
    "            sentences.append(line[1:].strip())\n",
    "    return labels, sentences\n",
    "\n",
    "\n",
    "train_labels, train_data = read_data('../../../../../../../../Downloads/quantum_data/mc_train_data.txt')\n",
    "dev_labels, dev_data = read_data('../../../../../../../../Downloads/quantum_data/mc_dev_data.txt')\n",
    "test_labels, test_data = read_data('../../../../../../../../Downloads/quantum_data/mc_test_data.txt')"
   ]
  },
  {
   "cell_type": "code",
   "execution_count": 5,
   "metadata": {},
   "outputs": [],
   "source": [
    "# From one-hot to integer\n",
    "train_labels = np.argmax(train_labels, 1)\n",
    "dev_labels = np.argmax(dev_labels, 1)\n",
    "test_labels = np.argmax(test_labels, 1)"
   ]
  },
  {
   "attachments": {},
   "cell_type": "markdown",
   "metadata": {},
   "source": [
    "## Word2vec"
   ]
  },
  {
   "cell_type": "code",
   "execution_count": 6,
   "metadata": {},
   "outputs": [],
   "source": [
    "import gensim.downloader\n",
    "\n",
    "# Load the model from gensim-data\n",
    "glove_model = gensim.downloader.load('glove-twitter-25')\n"
   ]
  },
  {
   "cell_type": "code",
   "execution_count": 7,
   "metadata": {},
   "outputs": [],
   "source": [
    "#Get the word embeddings for each word in the sentence\n",
    "def get_word_embeddings(sentence, seq_length):\n",
    "    embeddings = []\n",
    "    for word in sentence.split():\n",
    "        try:\n",
    "            embeddings.append(glove_model[word])\n",
    "        except:\n",
    "            pass\n",
    "\n",
    "    #Pad the array with zeros if the sentence is shorter than the max length\n",
    "    if len(embeddings) < seq_length:\n",
    "        embeddings.extend(np.zeros((seq_length-len(embeddings), 25)))\n",
    "    return np.array(embeddings)"
   ]
  },
  {
   "cell_type": "code",
   "execution_count": 8,
   "metadata": {},
   "outputs": [],
   "source": [
    "def preprocess_dataset(data, seq_length):\n",
    "    new_data = []\n",
    "    for sentence in data:\n",
    "        new_data.append(get_word_embeddings(sentence, seq_length))\n",
    "    return np.array(new_data)"
   ]
  },
  {
   "cell_type": "code",
   "execution_count": 9,
   "metadata": {},
   "outputs": [],
   "source": [
    "def find_max_length(data):\n",
    "    max_length = 0\n",
    "    for sentence in data:\n",
    "        if len(sentence.split()) > max_length:\n",
    "            max_length = len(sentence.split())\n",
    "    return max_length"
   ]
  },
  {
   "cell_type": "code",
   "execution_count": 10,
   "metadata": {},
   "outputs": [],
   "source": [
    "seq_length = np.max([find_max_length(train_data), find_max_length(dev_data), find_max_length(test_data)])"
   ]
  },
  {
   "cell_type": "code",
   "execution_count": 11,
   "metadata": {},
   "outputs": [],
   "source": [
    "X_train = preprocess_dataset(train_data, seq_length)\n",
    "X_dev = preprocess_dataset(dev_data, seq_length)\n",
    "X_test = preprocess_dataset(test_data, seq_length)"
   ]
  },
  {
   "cell_type": "code",
   "execution_count": 12,
   "metadata": {},
   "outputs": [],
   "source": [
    "class EmbeddingDataset(Dataset):\n",
    "    \"\"\"Embedding dataset.\"\"\"\n",
    "\n",
    "    def __init__(self, X, Y):\n",
    "        self.X = X\n",
    "        self.Y = Y\n",
    "\n",
    "\n",
    "    def __len__(self):\n",
    "        return len(self.X)\n",
    "\n",
    "    def __getitem__(self, idx):\n",
    "        if torch.is_tensor(idx):\n",
    "            idx = idx.tolist()\n",
    "\n",
    "        return torch.tensor(self.X[idx]).to(torch.float32) , torch.tensor(self.Y[idx]).to(torch.float32)"
   ]
  },
  {
   "attachments": {},
   "cell_type": "markdown",
   "metadata": {},
   "source": [
    "## Setting of the main hyper-parameters of the model"
   ]
  },
  {
   "attachments": {},
   "cell_type": "markdown",
   "metadata": {},
   "source": [
    "### To implement this circuit, we need ancilla qubits. \n",
    "For the Reg_D part we need X*max_sentence_len qubits and for the Reg_H part we need X qubits.\n",
    "\n",
    "\n",
    "Here we have X = 3 and max_sentence_len = 5\n",
    "\n",
    "\n",
    "Thus n_qubits = 3*5 + 3 = 18"
   ]
  },
  {
   "cell_type": "code",
   "execution_count": 13,
   "metadata": {},
   "outputs": [],
   "source": [
    "n_qubits_D = 3                # Number of qubits for the Reg_D\n",
    "n_qubits_H = 3                # Number of qubits for the Reg_H\n",
    "# In the paper n_qubits_D = n_qubits_H = 3\n",
    "\n",
    "n_qubits = seq_length*n_qubits_D + n_qubits_H   # Number of qubits"
   ]
  },
  {
   "cell_type": "code",
   "execution_count": 14,
   "metadata": {},
   "outputs": [],
   "source": [
    "BATCH_SIZE = 1024\n",
    "EPOCHS = 50\n",
    "LR = 2e-1\n",
    "GAMMA_LR = 0.5    # Learning rate reduction applied every STEP_LR epochs.\n",
    "STEP_LR = 20\n",
    "WEIGHT_DECAY = 0"
   ]
  },
  {
   "cell_type": "code",
   "execution_count": 15,
   "metadata": {},
   "outputs": [],
   "source": [
    "dev = qml.device(\"default.qubit\", wires=n_qubits)"
   ]
  },
  {
   "cell_type": "code",
   "execution_count": 16,
   "metadata": {},
   "outputs": [
    {
     "name": "stdout",
     "output_type": "stream",
     "text": [
      "Device used: cpu\n"
     ]
    }
   ],
   "source": [
    "device = torch.device(\"cuda:0\" if torch.cuda.is_available() else \"cpu\")\n",
    "\n",
    "#Pennylane doesnt seem to support Mac Apple Silicon yet\n",
    "#device = torch.device(\"mps\" if torch.backends.mps.is_available() else \"cpu\")\n",
    "\n",
    "print('Device used:', device)\n"
   ]
  },
  {
   "attachments": {},
   "cell_type": "markdown",
   "metadata": {},
   "source": [
    "## Variational quantum circuit\n"
   ]
  },
  {
   "cell_type": "code",
   "execution_count": 17,
   "metadata": {},
   "outputs": [],
   "source": [
    "def RZZ_block(wires, weight):\n",
    "    qml.CNOT(wires=[wires[0], wires[1]])\n",
    "    qml.RZ(weight, wires=wires[1])\n",
    "    qml.CNOT(wires=[wires[0], wires[1]])"
   ]
  },
  {
   "cell_type": "code",
   "execution_count": 18,
   "metadata": {},
   "outputs": [],
   "source": [
    "def regD(x_t, weights):\n",
    "    # Here we can modify only the first n_qubits_D wires\n",
    "\n",
    "    # Embed features in the quantum node\n",
    "    for idx, element in enumerate(x_t):\n",
    "        qml.RY(element, wires=idx)\n",
    "\n",
    "    ## First part of the circuit\n",
    "    for idx, element in enumerate(weights[0]):\n",
    "        qml.RX(element, wires=idx)\n",
    "\n",
    "    for idx, element in enumerate(weights[1]):\n",
    "        qml.RZ(element, wires=idx)\n",
    "\n",
    "    for idx, element in enumerate(weights[2]):\n",
    "        qml.RX(element, wires=idx)\n"
   ]
  },
  {
   "cell_type": "code",
   "execution_count": 19,
   "metadata": {},
   "outputs": [],
   "source": [
    "def regH(weights):\n",
    "    # Here we can modify only the wires from n_qubits_D to n_qubits_D + n_qubits_H\n",
    "\n",
    "    ## First part of the circuit\n",
    "    for idx, element in enumerate(weights[0]):\n",
    "        qml.RX(element, wires=n_qubits_D+idx)\n",
    "\n",
    "    for idx, element in enumerate(weights[1]):\n",
    "        qml.RZ(element, wires=n_qubits_D+idx)\n",
    "\n",
    "    for idx, element in enumerate(weights[2]):\n",
    "        qml.RX(element, wires=n_qubits_D+idx)\n"
   ]
  },
  {
   "cell_type": "code",
   "execution_count": 20,
   "metadata": {},
   "outputs": [],
   "source": [
    "@qml.qnode(dev, interface=\"torch\")\n",
    "def regD_H(inputs, weights_start_D, weights_start_H, weights_entangle):\n",
    "    inputs = inputs.reshape((seq_length, n_qubits_D))\n",
    "\n",
    "    for index, x_t in enumerate(inputs):\n",
    "        # Here word is a 1 dimensional vector, (X/2)\n",
    "        regD(x_t, weights_start_D)\n",
    "    \n",
    "        regH(weights_start_H)\n",
    "\n",
    "    \n",
    "        # Entanglement\n",
    "        for idx, element in enumerate(weights_entangle[:-1]):\n",
    "            RZZ_block([idx, idx + 1], element)\n",
    "\n",
    "        # Entanglement between the last Reg_H and the first Reg_D qubit\n",
    "        RZZ_block([n_qubits_D + n_qubits_H - 1, 0], weights_entangle[-1])\n",
    "\n",
    "        if index < seq_length - 1:\n",
    "            # SWAP the reg_D qubits with the ancilla qubits\n",
    "            for idx in range(n_qubits_D):\n",
    "                qml.SWAP(wires=[idx, n_qubits_D + n_qubits_H + index*n_qubits_D + idx])\n",
    "\n",
    "\n",
    "    #We measure the 1st qubit\n",
    "    exp_vals_Y = qml.expval(qml.PauliY(0))\n",
    "\n",
    "    #We measure the 2nd qubit to reset its state to 0\n",
    "    #_ = qml.expval(qml.PauliY(1))\n",
    "\n",
    "    #print(exp_vals_Y)\n",
    "\n",
    "    #print(type(exp_vals_Y))\n",
    "\n",
    "    #exp_vals_Z = [qml.expval(qml.PauliZ(position)) for position in range(2)]\n",
    "\n",
    "    #print(exp_vals_Z)\n",
    "\n",
    "    #print(type(exp_vals_Z))\n",
    "    #print(tuple(exp_vals_Z))\n",
    "    #print(torch.hstack(tuple(exp_vals_Z)))\n",
    "\n",
    "    #return torch.tensor([exp_vals_Y])\n",
    "    return exp_vals_Y"
   ]
  },
  {
   "cell_type": "code",
   "execution_count": 21,
   "metadata": {},
   "outputs": [],
   "source": [
    "def regD_batch(weights):\n",
    "    # Here we can modify only the first n_qubits_D wires\n",
    "\n",
    "    ## First part of the circuit\n",
    "    for idx, element in enumerate(weights[0]):\n",
    "        qml.RX(element, wires=idx)\n",
    "\n",
    "    for idx, element in enumerate(weights[1]):\n",
    "        qml.RZ(element, wires=idx)\n",
    "\n",
    "    for idx, element in enumerate(weights[2]):\n",
    "        qml.RX(element, wires=idx)\n"
   ]
  },
  {
   "cell_type": "code",
   "execution_count": 22,
   "metadata": {},
   "outputs": [],
   "source": [
    "@qml.batch_input\n",
    "@qml.qnode(dev, interface=\"torch\")\n",
    "def regD_H_batch(sentence, weights_start_D, weights_start_H, weights_entangle):\n",
    "    print(sentence.shape)\n",
    "\n",
    "    \n",
    "    embedding_range = list(range(n_qubits_D)) + list(range(n_qubits_D + n_qubits_H, n_qubits))\n",
    "\n",
    "    \n",
    "    qml.AngleEmbedding(sentence, wires=embedding_range, rotation=\"Y\")\n",
    "\n",
    "\n",
    "    for index, x_t in enumerate([0, 1, 2, 3, 4]):\n",
    "        # Here word is a 1 dimensional vector, (X/2)\n",
    "        regD_batch(weights_start_D)\n",
    "    \n",
    "        regH(weights_start_H)\n",
    "\n",
    "    \n",
    "        # Entanglement\n",
    "        for idx, element in enumerate(weights_entangle[:-1]):\n",
    "            RZZ_block([idx, idx + 1], element)\n",
    "\n",
    "        # Entanglement between the last Reg_H and the first Reg_D qubit\n",
    "        RZZ_block([n_qubits_D + n_qubits_H - 1, 0], weights_entangle[-1])\n",
    "\n",
    "        if index < seq_length - 1:\n",
    "            # SWAP the reg_D qubits with the ancilla qubits\n",
    "            for idx in range(n_qubits_D):\n",
    "                qml.SWAP(wires=[idx, n_qubits_D + n_qubits_H + index*n_qubits_D + idx])\n",
    "\n",
    "        \n",
    "\n",
    "\n",
    "    #We measure the 1st qubit\n",
    "    \n",
    "    exp_vals_Y = qml.expval(qml.PauliY(0))\n",
    "    print(\"oula\")\n",
    "    #pdb.set_trace()\n",
    "    return exp_vals_Y"
   ]
  },
  {
   "cell_type": "code",
   "execution_count": 43,
   "metadata": {},
   "outputs": [],
   "source": [
    "def regD_H_BATCH2(inputs, weights_start_D, weights_start_H, weights_entangle):\n",
    "    inputs = inputs.reshape((seq_length, n_qubits_D))\n",
    "\n",
    "    for index, x_t in enumerate(inputs):\n",
    "        # Here word is a 1 dimensional vector, (X/2)\n",
    "        regD(x_t, weights_start_D)\n",
    "    \n",
    "        regH(weights_start_H)\n",
    "\n",
    "    \n",
    "        # Entanglement\n",
    "        for idx, element in enumerate(weights_entangle[:-1]):\n",
    "            RZZ_block([idx, idx + 1], element)\n",
    "\n",
    "        # Entanglement between the last Reg_H and the first Reg_D qubit\n",
    "        RZZ_block([n_qubits_D + n_qubits_H - 1, 0], weights_entangle[-1])\n",
    "\n",
    "        if index < seq_length - 1:\n",
    "            # SWAP the reg_D qubits with the ancilla qubits\n",
    "            for idx in range(n_qubits_D):\n",
    "                qml.SWAP(wires=[idx, n_qubits_D + n_qubits_H + index*n_qubits_D + idx])\n",
    "\n",
    "\n",
    "    #We measure the 1st qubit\n",
    "    exp_vals_Y = qml.expval(qml.PauliY(0))\n",
    "\n",
    "    return exp_vals_Y"
   ]
  },
  {
   "cell_type": "code",
   "execution_count": 44,
   "metadata": {},
   "outputs": [],
   "source": [
    "class DressedQuantumNet_Batch(nn.Module):\n",
    "    \"\"\"\n",
    "    Torch module implementing the *dressed* quantum net.\n",
    "    \"\"\"\n",
    "\n",
    "    def __init__(self):\n",
    "        \"\"\"\n",
    "        Definition of the *dressed* layout.\n",
    "        \"\"\"\n",
    "\n",
    "        super().__init__()\n",
    "        self.pre_net = nn.Linear(25, n_qubits_D)\n",
    "        self.q_params_start_D = nn.Parameter(torch.randn((3, n_qubits_D)), requires_grad=True)\n",
    "        self.q_params_start_H = nn.Parameter(torch.randn((3, n_qubits_H)), requires_grad=True)\n",
    "\n",
    "        self.q_params_entangle = nn.Parameter(torch.randn((n_qubits_D+n_qubits_H, 1)), requires_grad=True)\n",
    "        self.sigmoid = nn.Sigmoid()\n",
    "\n",
    "        dev = qml.device('default.qubit', wires=n_qubits)\n",
    "        \n",
    "        self.quantum_net = qml.QNode(regD_H_BATCH2, dev, interface=\"torch\")\n",
    "\n",
    "    def forward(self, input_features):\n",
    "        \"\"\"\n",
    "        Defining how tensors are supposed to move through the *dressed* quantum\n",
    "        net.\n",
    "        \"\"\"\n",
    "\n",
    "        # obtain the input features for the quantum circuit\n",
    "        # by reducing the feature dimension from 512 to 3\n",
    "        pre_out = self.pre_net(input_features)\n",
    "        #q_in = torch.tanh(pre_out) * np.pi / 2.0\n",
    "        q_in = torch.sigmoid(pre_out) * np.pi\n",
    "\n",
    "        print('q_in.shape: ', q_in.shape)\n",
    "        y_hat = self.quantum_net(q_in, self.q_params_start_D, self.q_params_start_H, self.q_params_entangle)\n",
    "        \n",
    "        y_hat = self.q_layer(q_in)\n",
    "        #q_out = y_hat\n",
    "\n",
    "        return self.sigmoid(y_hat)"
   ]
  },
  {
   "cell_type": "code",
   "execution_count": 45,
   "metadata": {},
   "outputs": [],
   "source": [
    "class DressedQuantumNet(nn.Module):\n",
    "    \"\"\"\n",
    "    Torch module implementing the *dressed* quantum net.\n",
    "    \"\"\"\n",
    "\n",
    "    def __init__(self):\n",
    "        \"\"\"\n",
    "        Definition of the *dressed* layout.\n",
    "        \"\"\"\n",
    "\n",
    "        super().__init__()\n",
    "        self.pre_net = nn.Linear(25, n_qubits_D)\n",
    "        self.q_params_start_D = nn.Parameter(torch.randn((3, n_qubits_D)), requires_grad=True)\n",
    "        self.q_params_start_H = nn.Parameter(torch.randn((3, n_qubits_H)), requires_grad=True)\n",
    "\n",
    "        self.q_params_entangle = nn.Parameter(torch.randn((n_qubits_D+n_qubits_H, 1)), requires_grad=True)\n",
    "        self.sigmoid = nn.Sigmoid()\n",
    "\n",
    "        self.q_layer = qml.qnn.TorchLayer(regD_H, {\"weights_start_D\": (3, n_qubits_D),\n",
    "                                                    \"weights_start_H\": (3, n_qubits_H),\n",
    "                                                    \"weights_entangle\": (n_qubits_D+n_qubits_H, 1)})\n",
    "\n",
    "    def forward(self, input_features):\n",
    "        \"\"\"\n",
    "        Defining how tensors are supposed to move through the *dressed* quantum\n",
    "        net.\n",
    "        \"\"\"\n",
    "\n",
    "        # obtain the input features for the quantum circuit\n",
    "        # by reducing the feature dimension from 512 to 3\n",
    "        pre_out = self.pre_net(input_features)\n",
    "        #q_in = torch.tanh(pre_out) * np.pi / 2.0\n",
    "        q_in = torch.sigmoid(pre_out) * np.pi\n",
    "\n",
    "\n",
    "        \n",
    "        #q_out = torch.Tensor(0, 1)\n",
    "        #q_out = q_out.to(device)\n",
    "        # for sentence in q_in:\n",
    "        #     #Here sentence is a 2 dimensional vector, (seq_length, X/2) with X --> Number of qubits for Reg_D\n",
    "        #     #for word in sentence:\n",
    "        #         #y_hat = torch.tensor([regD_H(word, self.q_params_start, self.q_params_entangle)])\n",
    "        #     y_hat = regD_H(sentence, self.q_params_start_D, self.q_params_start_H, self.q_params_entangle)\n",
    "\n",
    "        #     #After the execution of the QC, all the qubits are reset to the |0> state\n",
    "\n",
    "\n",
    "        #     #We only keep the last measured y_hat\n",
    "        #     q_out = torch.cat((q_out, y_hat.reshape(1, 1)), dim=0)\n",
    "        \n",
    "        # We flatten the input to be able to use the batch processing of the quantum circuit, shape expected (batch_size, x)\n",
    "        q_in = q_in.flatten(1)\n",
    "        \n",
    "        y_hat = self.q_layer(q_in)\n",
    "        #q_out = y_hat\n",
    "\n",
    "        return self.sigmoid(y_hat)"
   ]
  },
  {
   "cell_type": "code",
   "execution_count": 46,
   "metadata": {},
   "outputs": [],
   "source": [
    "train_dataset = EmbeddingDataset(X_train, train_labels)\n",
    "training_dataloader = DataLoader(train_dataset, batch_size=BATCH_SIZE, shuffle=True)\n",
    "\n",
    "dev_dataset = EmbeddingDataset(X_dev, dev_labels)\n",
    "dev_dataloader = DataLoader(dev_dataset, batch_size=BATCH_SIZE, shuffle=True)\n",
    "\n",
    "test_dataset = EmbeddingDataset(X_test, test_labels)\n",
    "test_dataloader = DataLoader(test_dataset, batch_size=BATCH_SIZE, shuffle=True)"
   ]
  },
  {
   "cell_type": "code",
   "execution_count": 47,
   "metadata": {},
   "outputs": [],
   "source": [
    "#model_hybrid = DressedQuantumNet()\n",
    "model_hybrid = DressedQuantumNet_Batch()\n",
    "\n",
    "# Use CUDA or CPU according to the \"device\" object.\n",
    "model_hybrid = model_hybrid.to(device)"
   ]
  },
  {
   "attachments": {},
   "cell_type": "markdown",
   "metadata": {},
   "source": [
    "## Training and results"
   ]
  },
  {
   "attachments": {},
   "cell_type": "markdown",
   "metadata": {},
   "source": [
    "Here we use a Binary Cross Entropy Loss, an Adam optimizer and a scheduler reducing the learning rate at an exponentially rate. "
   ]
  },
  {
   "cell_type": "code",
   "execution_count": 48,
   "metadata": {},
   "outputs": [],
   "source": [
    "criterion = nn.BCELoss()\n",
    "\n",
    "optimizer_hybrid = optim.Adam(model_hybrid.parameters(), lr=LR, weight_decay=WEIGHT_DECAY)\n",
    "exp_lr_scheduler = lr_scheduler.StepLR(\n",
    "    optimizer_hybrid, step_size=STEP_LR, gamma=GAMMA_LR\n",
    ")\n",
    "\n",
    "#exp_lr_scheduler = lr_scheduler.CosineAnnealingLR(\n",
    "#    optimizer_hybrid, T_max=EPOCHS, eta_min=1e-5)\n",
    "\n"
   ]
  },
  {
   "attachments": {},
   "cell_type": "markdown",
   "metadata": {},
   "source": [
    "We use tensorboard to log the hyperparameters, the loss and the accuracy of the model:"
   ]
  },
  {
   "cell_type": "code",
   "execution_count": null,
   "metadata": {},
   "outputs": [],
   "source": [
    "from torch.utils.tensorboard import SummaryWriter\n",
    "import datetime\n",
    "\n",
    "log_dir = \"logs/test_QRNN/\" + datetime.datetime.now().strftime(\"%Y%m%d-%H%M%S\")\n",
    "summary_writer = SummaryWriter(log_dir=log_dir)"
   ]
  },
  {
   "cell_type": "code",
   "execution_count": 49,
   "metadata": {},
   "outputs": [
    {
     "name": "stdout",
     "output_type": "stream",
     "text": [
      "Training started:\n"
     ]
    },
    {
     "name": "stderr",
     "output_type": "stream",
     "text": [
      "Training:   0%|          | 0/1 [00:00<?, ?it/s]\n",
      "Epochs:   0%|          | 0/50 [00:00<?, ?it/s]"
     ]
    },
    {
     "name": "stdout",
     "output_type": "stream",
     "text": [
      "q_in.shape:  torch.Size([70, 5, 3])\n"
     ]
    },
    {
     "name": "stderr",
     "output_type": "stream",
     "text": [
      "\n"
     ]
    },
    {
     "ename": "RuntimeError",
     "evalue": "shape '[5, 3]' is invalid for input of size 1050",
     "output_type": "error",
     "traceback": [
      "\u001b[0;31m---------------------------------------------------------------------------\u001b[0m",
      "\u001b[0;31mRuntimeError\u001b[0m                              Traceback (most recent call last)",
      "Cell \u001b[0;32mIn[49], line 34\u001b[0m\n\u001b[1;32m     32\u001b[0m \u001b[39m# Track/compute gradient and make an optimization step only when training\u001b[39;00m\n\u001b[1;32m     33\u001b[0m \u001b[39mwith\u001b[39;00m torch\u001b[39m.\u001b[39mset_grad_enabled(\u001b[39mTrue\u001b[39;00m):\n\u001b[0;32m---> 34\u001b[0m     outputs \u001b[39m=\u001b[39m model_hybrid(inputs)\n\u001b[1;32m     35\u001b[0m     preds \u001b[39m=\u001b[39m torch\u001b[39m.\u001b[39mround(outputs)\n\u001b[1;32m     36\u001b[0m     loss \u001b[39m=\u001b[39m criterion(outputs, labels\u001b[39m.\u001b[39munsqueeze(\u001b[39m1\u001b[39m))\n",
      "File \u001b[0;32m~/Library/Caches/pypoetry/virtualenvs/wp6-qnlp-G79kAyvs-py3.10/lib/python3.10/site-packages/torch/nn/modules/module.py:1501\u001b[0m, in \u001b[0;36mModule._call_impl\u001b[0;34m(self, *args, **kwargs)\u001b[0m\n\u001b[1;32m   1496\u001b[0m \u001b[39m# If we don't have any hooks, we want to skip the rest of the logic in\u001b[39;00m\n\u001b[1;32m   1497\u001b[0m \u001b[39m# this function, and just call forward.\u001b[39;00m\n\u001b[1;32m   1498\u001b[0m \u001b[39mif\u001b[39;00m \u001b[39mnot\u001b[39;00m (\u001b[39mself\u001b[39m\u001b[39m.\u001b[39m_backward_hooks \u001b[39mor\u001b[39;00m \u001b[39mself\u001b[39m\u001b[39m.\u001b[39m_backward_pre_hooks \u001b[39mor\u001b[39;00m \u001b[39mself\u001b[39m\u001b[39m.\u001b[39m_forward_hooks \u001b[39mor\u001b[39;00m \u001b[39mself\u001b[39m\u001b[39m.\u001b[39m_forward_pre_hooks\n\u001b[1;32m   1499\u001b[0m         \u001b[39mor\u001b[39;00m _global_backward_pre_hooks \u001b[39mor\u001b[39;00m _global_backward_hooks\n\u001b[1;32m   1500\u001b[0m         \u001b[39mor\u001b[39;00m _global_forward_hooks \u001b[39mor\u001b[39;00m _global_forward_pre_hooks):\n\u001b[0;32m-> 1501\u001b[0m     \u001b[39mreturn\u001b[39;00m forward_call(\u001b[39m*\u001b[39;49margs, \u001b[39m*\u001b[39;49m\u001b[39m*\u001b[39;49mkwargs)\n\u001b[1;32m   1502\u001b[0m \u001b[39m# Do not call functions when jit is used\u001b[39;00m\n\u001b[1;32m   1503\u001b[0m full_backward_hooks, non_full_backward_hooks \u001b[39m=\u001b[39m [], []\n",
      "Cell \u001b[0;32mIn[44], line 36\u001b[0m, in \u001b[0;36mDressedQuantumNet_Batch.forward\u001b[0;34m(self, input_features)\u001b[0m\n\u001b[1;32m     33\u001b[0m q_in \u001b[39m=\u001b[39m torch\u001b[39m.\u001b[39msigmoid(pre_out) \u001b[39m*\u001b[39m np\u001b[39m.\u001b[39mpi\n\u001b[1;32m     35\u001b[0m \u001b[39mprint\u001b[39m(\u001b[39m'\u001b[39m\u001b[39mq_in.shape: \u001b[39m\u001b[39m'\u001b[39m, q_in\u001b[39m.\u001b[39mshape)\n\u001b[0;32m---> 36\u001b[0m y_hat \u001b[39m=\u001b[39m \u001b[39mself\u001b[39;49m\u001b[39m.\u001b[39;49mquantum_net(q_in, \u001b[39mself\u001b[39;49m\u001b[39m.\u001b[39;49mq_params_start_D, \u001b[39mself\u001b[39;49m\u001b[39m.\u001b[39;49mq_params_start_H, \u001b[39mself\u001b[39;49m\u001b[39m.\u001b[39;49mq_params_entangle)\n\u001b[1;32m     38\u001b[0m y_hat \u001b[39m=\u001b[39m \u001b[39mself\u001b[39m\u001b[39m.\u001b[39mq_layer(q_in)\n\u001b[1;32m     39\u001b[0m \u001b[39m#q_out = y_hat\u001b[39;00m\n",
      "File \u001b[0;32m~/Library/Caches/pypoetry/virtualenvs/wp6-qnlp-G79kAyvs-py3.10/lib/python3.10/site-packages/pennylane/qnode.py:853\u001b[0m, in \u001b[0;36mQNode.__call__\u001b[0;34m(self, *args, **kwargs)\u001b[0m\n\u001b[1;32m    850\u001b[0m         set_shots(\u001b[39mself\u001b[39m\u001b[39m.\u001b[39m_original_device, override_shots)(\u001b[39mself\u001b[39m\u001b[39m.\u001b[39m_update_gradient_fn)()\n\u001b[1;32m    852\u001b[0m \u001b[39m# construct the tape\u001b[39;00m\n\u001b[0;32m--> 853\u001b[0m \u001b[39mself\u001b[39;49m\u001b[39m.\u001b[39;49mconstruct(args, kwargs)\n\u001b[1;32m    855\u001b[0m cache \u001b[39m=\u001b[39m \u001b[39mself\u001b[39m\u001b[39m.\u001b[39mexecute_kwargs\u001b[39m.\u001b[39mget(\u001b[39m\"\u001b[39m\u001b[39mcache\u001b[39m\u001b[39m\"\u001b[39m, \u001b[39mFalse\u001b[39;00m)\n\u001b[1;32m    856\u001b[0m using_custom_cache \u001b[39m=\u001b[39m (\n\u001b[1;32m    857\u001b[0m     \u001b[39mhasattr\u001b[39m(cache, \u001b[39m\"\u001b[39m\u001b[39m__getitem__\u001b[39m\u001b[39m\"\u001b[39m)\n\u001b[1;32m    858\u001b[0m     \u001b[39mand\u001b[39;00m \u001b[39mhasattr\u001b[39m(cache, \u001b[39m\"\u001b[39m\u001b[39m__setitem__\u001b[39m\u001b[39m\"\u001b[39m)\n\u001b[1;32m    859\u001b[0m     \u001b[39mand\u001b[39;00m \u001b[39mhasattr\u001b[39m(cache, \u001b[39m\"\u001b[39m\u001b[39m__delitem__\u001b[39m\u001b[39m\"\u001b[39m)\n\u001b[1;32m    860\u001b[0m )\n",
      "File \u001b[0;32m~/Library/Caches/pypoetry/virtualenvs/wp6-qnlp-G79kAyvs-py3.10/lib/python3.10/site-packages/pennylane/qnode.py:757\u001b[0m, in \u001b[0;36mQNode.construct\u001b[0;34m(self, args, kwargs)\u001b[0m\n\u001b[1;32m    754\u001b[0m \u001b[39mif\u001b[39;00m old_interface \u001b[39m==\u001b[39m \u001b[39m\"\u001b[39m\u001b[39mauto\u001b[39m\u001b[39m\"\u001b[39m:\n\u001b[1;32m    755\u001b[0m     \u001b[39mself\u001b[39m\u001b[39m.\u001b[39minterface \u001b[39m=\u001b[39m qml\u001b[39m.\u001b[39mmath\u001b[39m.\u001b[39mget_interface(\u001b[39m*\u001b[39margs, \u001b[39m*\u001b[39m\u001b[39mlist\u001b[39m(kwargs\u001b[39m.\u001b[39mvalues()))\n\u001b[0;32m--> 757\u001b[0m \u001b[39mself\u001b[39m\u001b[39m.\u001b[39m_tape \u001b[39m=\u001b[39m make_qscript(\u001b[39mself\u001b[39;49m\u001b[39m.\u001b[39;49mfunc)(\u001b[39m*\u001b[39;49margs, \u001b[39m*\u001b[39;49m\u001b[39m*\u001b[39;49mkwargs)\n\u001b[1;32m    758\u001b[0m \u001b[39mself\u001b[39m\u001b[39m.\u001b[39m_qfunc_output \u001b[39m=\u001b[39m \u001b[39mself\u001b[39m\u001b[39m.\u001b[39mtape\u001b[39m.\u001b[39m_qfunc_output\n\u001b[1;32m    760\u001b[0m params \u001b[39m=\u001b[39m \u001b[39mself\u001b[39m\u001b[39m.\u001b[39mtape\u001b[39m.\u001b[39mget_parameters(trainable_only\u001b[39m=\u001b[39m\u001b[39mFalse\u001b[39;00m)\n",
      "File \u001b[0;32m~/Library/Caches/pypoetry/virtualenvs/wp6-qnlp-G79kAyvs-py3.10/lib/python3.10/site-packages/pennylane/tape/qscript.py:1378\u001b[0m, in \u001b[0;36mmake_qscript.<locals>.wrapper\u001b[0;34m(*args, **kwargs)\u001b[0m\n\u001b[1;32m   1376\u001b[0m \u001b[39mdef\u001b[39;00m \u001b[39mwrapper\u001b[39m(\u001b[39m*\u001b[39margs, \u001b[39m*\u001b[39m\u001b[39m*\u001b[39mkwargs):\n\u001b[1;32m   1377\u001b[0m     \u001b[39mwith\u001b[39;00m AnnotatedQueue() \u001b[39mas\u001b[39;00m q:\n\u001b[0;32m-> 1378\u001b[0m         result \u001b[39m=\u001b[39m fn(\u001b[39m*\u001b[39;49margs, \u001b[39m*\u001b[39;49m\u001b[39m*\u001b[39;49mkwargs)\n\u001b[1;32m   1380\u001b[0m     qscript \u001b[39m=\u001b[39m QuantumScript\u001b[39m.\u001b[39mfrom_queue(q)\n\u001b[1;32m   1381\u001b[0m     qscript\u001b[39m.\u001b[39m_qfunc_output \u001b[39m=\u001b[39m result\n",
      "Cell \u001b[0;32mIn[43], line 2\u001b[0m, in \u001b[0;36mregD_H_BATCH2\u001b[0;34m(inputs, weights_start_D, weights_start_H, weights_entangle)\u001b[0m\n\u001b[1;32m      1\u001b[0m \u001b[39mdef\u001b[39;00m \u001b[39mregD_H_BATCH2\u001b[39m(inputs, weights_start_D, weights_start_H, weights_entangle):\n\u001b[0;32m----> 2\u001b[0m     inputs \u001b[39m=\u001b[39m inputs\u001b[39m.\u001b[39;49mreshape((seq_length, n_qubits_D))\n\u001b[1;32m      4\u001b[0m     \u001b[39mfor\u001b[39;00m index, x_t \u001b[39min\u001b[39;00m \u001b[39menumerate\u001b[39m(inputs):\n\u001b[1;32m      5\u001b[0m         \u001b[39m# Here word is a 1 dimensional vector, (X/2)\u001b[39;00m\n\u001b[1;32m      6\u001b[0m         regD(x_t, weights_start_D)\n",
      "\u001b[0;31mRuntimeError\u001b[0m: shape '[5, 3]' is invalid for input of size 1050"
     ]
    }
   ],
   "source": [
    "#Training loop\n",
    "best_val_loss = 1000\n",
    "best_val_acc = 0\n",
    "best_train_loss = 1000\n",
    "best_acc_train = 0\n",
    "\n",
    "training_loss_list = []\n",
    "validation_loss_list = []\n",
    "training_acc_list = []\n",
    "validation_acc_list = []\n",
    "print(\"Training started:\")\n",
    "\n",
    "epoch_bar = tqdm(range(EPOCHS), total=EPOCHS, desc=\"Epochs\", position=0, leave=True)\n",
    "\n",
    "for epoch in epoch_bar:\n",
    "\n",
    "    model_hybrid.train()\n",
    "\n",
    "    running_loss = 0.0\n",
    "    running_corrects = 0\n",
    "\n",
    "    # Iterate over data.\n",
    "    it = 0\n",
    "    training_bar = tqdm(training_dataloader, total=len(training_dataloader), desc=\"Training\", position=0, leave=True)\n",
    "\n",
    "    for inputs, labels in training_bar:\n",
    "        batch_size_ = len(inputs)\n",
    "        inputs = inputs.to(device)\n",
    "        labels = labels.to(device)\n",
    "        optimizer_hybrid.zero_grad()\n",
    "\n",
    "        # Track/compute gradient and make an optimization step only when training\n",
    "        with torch.set_grad_enabled(True):\n",
    "            outputs = model_hybrid(inputs)\n",
    "            preds = torch.round(outputs)\n",
    "            loss = criterion(outputs, labels.unsqueeze(1))\n",
    "            \n",
    "            \n",
    "            loss.backward()\n",
    "            optimizer_hybrid.step()\n",
    "\n",
    "        # Print iteration results\n",
    "        running_loss += loss.item()*batch_size_\n",
    "\n",
    "        batch_corrects = torch.sum(preds == labels.unsqueeze(1)).item()\n",
    "        running_corrects += batch_corrects\n",
    "\n",
    "        training_bar.set_postfix({\"loss\": f\"{loss:.3f}\", \"acc\": f\"{batch_corrects/batch_size_:.3f}\"})\n",
    "\n",
    "\n",
    "    # Print epoch results\n",
    "    train_loss = running_loss / len(training_dataloader.dataset)\n",
    "    train_acc = running_corrects / len(training_dataloader.dataset)\n",
    "\n",
    "    epoch_bar.set_postfix({\"loss\": f\"{train_loss:.3f}\", \"acc\": f\"{train_acc:.3f}\"})\n",
    "\n",
    "    summary_writer.add_scalar(\"Training/Loss\", train_loss, epoch)\n",
    "    summary_writer.add_scalar(\"Training/Acurracy\", train_acc, epoch)\n",
    "\n",
    "    training_loss_list.append(train_loss)\n",
    "    training_acc_list.append(train_acc)\n",
    "\n",
    "    exp_lr_scheduler.step()\n",
    "\n",
    "    if train_loss < best_train_loss:\n",
    "        best_train_loss = train_loss\n",
    "\n",
    "    if train_acc > best_acc_train:\n",
    "        best_acc_train = train_acc\n",
    "\n",
    "    \n",
    "    ## VALIDATION PHASE\n",
    "    validation_bar = tqdm(dev_dataloader, total=len(dev_dataloader), desc=\"Validation\", position=0, leave=True)\n",
    "    model_hybrid.eval()\n",
    "\n",
    "    running_loss = 0.0\n",
    "    running_corrects = 0\n",
    "\n",
    "\n",
    "    for inputs, labels in validation_bar:\n",
    "        batch_size_ = len(inputs)\n",
    "        inputs = inputs.to(device)\n",
    "        labels = labels.to(device)\n",
    "        optimizer_hybrid.zero_grad()\n",
    "\n",
    "        # Track/compute gradient and make an optimization step only when training\n",
    "        with torch.set_grad_enabled(False):\n",
    "            outputs = model_hybrid(inputs)\n",
    "            preds = torch.round(outputs)\n",
    "            loss = criterion(outputs, labels.unsqueeze(1))\n",
    "\n",
    "        # Print iteration results\n",
    "        running_loss += loss.item()*batch_size_\n",
    "        batch_corrects = torch.sum(preds == labels.unsqueeze(1)).item()\n",
    "        running_corrects += batch_corrects\n",
    "\n",
    "        validation_bar.set_postfix({\"loss\": f\"{loss:.3f}\", \"acc\": f\"{batch_corrects/batch_size_:.3f}\"})\n",
    "        it += 1\n",
    "\n",
    "    validation_loss = running_loss / len(dev_dataloader.dataset)\n",
    "    validation_acc = running_corrects / len(dev_dataloader.dataset)\n",
    "\n",
    "    summary_writer.add_scalar(\"Validation/Loss\", validation_loss, epoch)\n",
    "    summary_writer.add_scalar(\"Validation/Acurracy\", validation_acc, epoch)\n",
    "\n",
    "    validation_loss_list.append(validation_loss)\n",
    "    validation_acc_list.append(validation_acc)\n",
    "\n",
    "    if validation_acc > best_val_acc:\n",
    "        best_val_acc = validation_acc\n",
    "\n",
    "    if validation_loss < best_val_loss:\n",
    "        best_val_loss = validation_loss\n",
    "\n"
   ]
  },
  {
   "cell_type": "code",
   "execution_count": null,
   "metadata": {},
   "outputs": [],
   "source": [
    "summary_writer.add_hparams({'lr': LR, 'gamma_lr': GAMMA_LR, 'step_lr': STEP_LR, 'weight_decay': WEIGHT_DECAY},\n",
    "                      {'hparam/loss_train': best_train_loss, 'hparam/acc_train': best_acc_train,\n",
    "                       'hparam/loss_valid': best_val_loss, 'hparam/acc_valid': best_val_acc})"
   ]
  },
  {
   "attachments": {},
   "cell_type": "markdown",
   "metadata": {},
   "source": [
    "## Display loss and accuracy results"
   ]
  },
  {
   "cell_type": "code",
   "execution_count": null,
   "metadata": {},
   "outputs": [
    {
     "data": {
      "image/png": "[encoded data removed]",
      "text/plain": [
       "<Figure size 1000x500 with 2 Axes>"
      ]
     },
     "metadata": {},
     "output_type": "display_data"
    }
   ],
   "source": [
    "fig, ax1 = plt.subplots(1,2)\n",
    "\n",
    "# Plot Training and Validation Loss\n",
    "ax1[0].plot(training_loss_list, label='Training loss')\n",
    "ax1[0].plot(validation_loss_list, label='Validation loss')\n",
    "ax1[0].legend()\n",
    "ax1[0].set_ylabel('Loss')\n",
    "ax1[0].set_xlabel('Epoch')\n",
    "\n",
    "# Plot Training and Validation Accuracy\n",
    "ax1[1].plot(training_acc_list, label='Training accuracy')\n",
    "ax1[1].plot(validation_acc_list, label='Validation accuracy')\n",
    "ax1[1].legend()\n",
    "ax1[1].set_ylabel('Accuracy')\n",
    "ax1[1].set_xlabel('Epoch')\n",
    "\n",
    "\n",
    "fig.suptitle('Training results')\n",
    "fig.set_size_inches(10, 5)"
   ]
  },
  {
   "cell_type": "code",
   "execution_count": null,
   "metadata": {},
   "outputs": [],
   "source": []
  },
  {
   "cell_type": "markdown",
   "metadata": {},
   "source": []
  },
  {
   "cell_type": "code",
   "execution_count": null,
   "metadata": {},
   "outputs": [],
   "source": [
    "#TEST STUFF"
   ]
  },
  {
   "cell_type": "code",
   "execution_count": null,
   "metadata": {},
   "outputs": [],
   "source": [
    "dev2 = qml.device(\"default.qubit\", wires=4)"
   ]
  },
  {
   "cell_type": "code",
   "execution_count": null,
   "metadata": {},
   "outputs": [],
   "source": [
    "@qml.qnode(dev2, interface=\"torch\")\n",
    "def qc_2(x_t):\n",
    "\n",
    "    \n",
    "    for idx, element in enumerate(x_t):\n",
    "        qml.RY(element, wires=idx)\n",
    "\n",
    "    ## First part of the circuit\n",
    "    for idx, element in enumerate(x_t):\n",
    "        qml.RX(element, wires=idx)\n",
    "\n",
    "    #qml.QubitStateVector(np.array([1, 0, 0, 0]), wires=range(2))\n",
    "    #qml.BasisState(np.array([0, 0]), wires=range(2))\n",
    "\n",
    "\n",
    "    qml.SWAP(wires=[0, 3])\n",
    "\n",
    "    #We measure the 1st qubit\n",
    "    exp_vals_Y = qml.expval(qml.PauliY(0))\n",
    "    exp_vals_Y2 = qml.expval(qml.PauliY(1))\n",
    "\n",
    "\n",
    "\n",
    "    \n",
    "\n",
    "    \n",
    "    #We measure the 2nd qubit to reset its state to 0\n",
    "    #_ = qml.expval(qml.PauliY(1))\n",
    "\n",
    "    #print(exp_vals_Y)\n",
    "\n",
    "    #print(type(exp_vals_Y))\n",
    "\n",
    "    #exp_vals_Z = [qml.expval(qml.PauliZ(position)) for position in range(2)]\n",
    "\n",
    "    #print(exp_vals_Z)\n",
    "\n",
    "    #print(type(exp_vals_Z))\n",
    "    #print(tuple(exp_vals_Z))\n",
    "    #print(torch.hstack(tuple(exp_vals_Z)))\n",
    "\n",
    "    #return torch.tensor([exp_vals_Y])\n",
    "    return exp_vals_Y, exp_vals_Y2"
   ]
  },
  {
   "cell_type": "code",
   "execution_count": null,
   "metadata": {},
   "outputs": [],
   "source": [
    "word = torch.Tensor([0.1, 0.2])"
   ]
  },
  {
   "cell_type": "code",
   "execution_count": null,
   "metadata": {},
   "outputs": [
    {
     "data": {
      "text/plain": [
       "(tensor(0., dtype=torch.float64), tensor(-0.1947, dtype=torch.float64))"
      ]
     },
     "execution_count": 351,
     "metadata": {},
     "output_type": "execute_result"
    }
   ],
   "source": [
    "out = qc_2(word)\n",
    "out"
   ]
  },
  {
   "cell_type": "code",
   "execution_count": null,
   "metadata": {},
   "outputs": [],
   "source": [
    "def qc_3():\n",
    "    #We measure the 1st qubit\n",
    "    #qml.RX(0.1, wires=0)\n",
    "    \n",
    "    exp_vals_Y = qml.expval(qml.PauliY(1))\n",
    "\n",
    "    return exp_vals_Y"
   ]
  },
  {
   "cell_type": "code",
   "execution_count": null,
   "metadata": {},
   "outputs": [
    {
     "data": {
      "text/plain": [
       "expval(PauliY(wires=[1]))"
      ]
     },
     "execution_count": 190,
     "metadata": {},
     "output_type": "execute_result"
    }
   ],
   "source": [
    "qml.expval(qml.PauliY(1))"
   ]
  },
  {
   "cell_type": "code",
   "execution_count": null,
   "metadata": {},
   "outputs": [
    {
     "data": {
      "text/plain": [
       "expval(PauliY(wires=[1]))"
      ]
     },
     "execution_count": 191,
     "metadata": {},
     "output_type": "execute_result"
    }
   ],
   "source": [
    "qc_3()"
   ]
  },
  {
   "cell_type": "code",
   "execution_count": null,
   "metadata": {},
   "outputs": [
    {
     "data": {
      "text/plain": [
       "(expval(PauliY(wires=[0])), expval(PauliY(wires=[1])))"
      ]
     },
     "execution_count": 192,
     "metadata": {},
     "output_type": "execute_result"
    }
   ],
   "source": [
    "qc_2(word), qc_3()"
   ]
  },
  {
   "cell_type": "code",
   "execution_count": null,
   "metadata": {},
   "outputs": [],
   "source": [
    "qnode = qml.QNode(qc_3, dev2)\n"
   ]
  },
  {
   "cell_type": "code",
   "execution_count": null,
   "metadata": {},
   "outputs": [
    {
     "data": {
      "text/plain": [
       "tensor(0., requires_grad=True)"
      ]
     },
     "execution_count": 197,
     "metadata": {},
     "output_type": "execute_result"
    }
   ],
   "source": [
    "qnode()"
   ]
  },
  {
   "cell_type": "code",
   "execution_count": null,
   "metadata": {},
   "outputs": [],
   "source": [
    "dev = qml.device(\"default.qubit\", wires=2)\n",
    "\n",
    "@qml.qnode(dev, interface=\"torch\")\n",
    "def circuit(inputs, weights):\n",
    "    qml.RY(weights[0], wires=0)\n",
    "    qml.AngleEmbedding(inputs, wires=range(2), rotation=\"Y\")\n",
    "    qml.RY(weights[1], wires=1)\n",
    "    return qml.expval(qml.PauliZ(1))"
   ]
  },
  {
   "cell_type": "code",
   "execution_count": null,
   "metadata": {},
   "outputs": [
    {
     "data": {
      "text/plain": [
       "tensor([-0.0592, -0.6528,  0.9409,  0.6634,  0.7186, -0.4953,  0.1785,  0.6722,\n",
       "         0.9934, -0.4236], dtype=torch.float64)"
      ]
     },
     "execution_count": 241,
     "metadata": {},
     "output_type": "execute_result"
    }
   ],
   "source": [
    "x = torch.randn((10, 2))\n",
    "w = torch.randn((2,))\n",
    "circuit(x, w)"
   ]
  },
  {
   "cell_type": "code",
   "execution_count": null,
   "metadata": {},
   "outputs": [
    {
     "data": {
      "text/plain": [
       "TensorShape([10, 2])"
      ]
     },
     "execution_count": 62,
     "metadata": {},
     "output_type": "execute_result"
    }
   ],
   "source": [
    "x.shape"
   ]
  },
  {
   "cell_type": "code",
   "execution_count": null,
   "metadata": {},
   "outputs": [
    {
     "name": "stdout",
     "output_type": "stream",
     "text": [
      "torch.Size([2, 2, 2])\n",
      "torch.Size([2, 2])\n",
      "[tensor([0.9553, 0.7648], dtype=torch.float64), tensor([0.8253, 0.5403], dtype=torch.float64)]\n",
      "1\n"
     ]
    }
   ],
   "source": [
    "dev = qml.device(\"default.qubit\", wires=2)\n",
    "\n",
    "@qml.qnode(dev)\n",
    "def circuit2(features):\n",
    "    print(features.shape)\n",
    "    print(features[0].shape)\n",
    "    qml.AngleEmbedding(features[0], wires=range(2))\n",
    "    qml.AngleEmbedding(features[1], wires=range(2))\n",
    "    return [qml.expval(qml.PauliZ(i)) for i in range(2)]\n",
    "\n",
    "batch1 = [0.1, 0.2]\n",
    "batch2 = [0.1, 0.2]\n",
    "batches = [batch1, batch2]\n",
    "\n",
    "batches2 = [[0.2, 0.4], [0.6, 0.8]]\n",
    "batchesbatches= np.array([batches, batches2])\n",
    "\n",
    "batchesbatches = torch.tensor(batchesbatches)\n",
    "\n",
    "print(circuit2(batchesbatches))\n",
    "print(dev.num_executions)"
   ]
  },
  {
   "cell_type": "code",
   "execution_count": null,
   "metadata": {},
   "outputs": [
    {
     "data": {
      "text/plain": [
       "torch.Size([2, 2, 2])"
      ]
     },
     "execution_count": 76,
     "metadata": {},
     "output_type": "execute_result"
    }
   ],
   "source": [
    "batchesbatches.shape\n"
   ]
  },
  {
   "cell_type": "code",
   "execution_count": null,
   "metadata": {},
   "outputs": [
    {
     "data": {
      "text/plain": [
       "torch.Size([70, 5, 3])"
      ]
     },
     "execution_count": 78,
     "metadata": {},
     "output_type": "execute_result"
    }
   ],
   "source": [
    "inputs2.shape"
   ]
  },
  {
   "cell_type": "code",
   "execution_count": null,
   "metadata": {},
   "outputs": [],
   "source": [
    "def RX_layer(w):\n",
    "    \"\"\"Layer of parametrized qubit rotations around the x axis.\n",
    "    \"\"\"\n",
    "    for idx, element in enumerate(w):\n",
    "        qml.RX(element, wires=idx)\n",
    "\n",
    "def RZ_layer(w):\n",
    "    \"\"\"Layer of parametrized qubit rotations around the z axis.\n",
    "    \"\"\"\n",
    "    for idx, element in enumerate(w):\n",
    "        qml.RZ(element, wires=idx)"
   ]
  },
  {
   "cell_type": "code",
   "execution_count": null,
   "metadata": {},
   "outputs": [],
   "source": [
    "def circuit3(inputs, q_weights):\n",
    "    #https://onlinelibrary.wiley.com/doi/epdf/10.1002/qute.201900070\n",
    "    #Circuit [6] but adapted for n_qubits = 3\n",
    "\n",
    "    print(inputs.shape)\n",
    "\n",
    "    op = qml.AngleEmbedding(features=inputs, wires=range(n_qubits), rotation='X')\n",
    "\n",
    "    print(op.batch_size)\n",
    "\n",
    "    #RX_layer(inputs)\n",
    "\n",
    "    parameter_index = 0\n",
    "    \n",
    "    #RZ_layer(q_weights[parameter_index : parameter_index+n_qubits])\n",
    "    for idx, element in enumerate(q_weights[parameter_index : parameter_index+n_qubits]):\n",
    "        print(idx)\n",
    "        qml.RZ(element, wires=idx)\n",
    "\n",
    "    parameter_index += n_qubits\n",
    "\n",
    "    for k in range(0, n_qubits):\n",
    "        for j in range(0, n_qubits):\n",
    "            if k != j:\n",
    "                qml.CRX(phi=q_weights[parameter_index], wires=[k, j])\n",
    "                parameter_index += 1\n",
    "\n",
    "    #RX_layer(q_weights[parameter_index : parameter_index+n_qubits])\n",
    "    for idx, element in enumerate(q_weights[parameter_index : parameter_index+n_qubits]):\n",
    "        qml.RX(element, wires=idx)\n",
    "    parameter_index += n_qubits\n",
    "\n",
    "    #RZ_layer(q_weights[parameter_index : parameter_index+n_qubits])\n",
    "    for idx, element in enumerate(q_weights[parameter_index : parameter_index+n_qubits]):\n",
    "        qml.RZ(element, wires=idx)\n",
    "    parameter_index += n_qubits\n",
    "\n",
    "    exp_vals_Y = [qml.expval(qml.PauliY(position)) for position in range(n_qubits)]\n",
    "\n",
    "    print(exp_vals_Y)\n",
    "    print(tuple(exp_vals_Y))\n",
    "\n",
    "    print('LETS GOOOOOO')\n",
    "    return exp_vals_Y\n",
    "\n",
    "\n",
    "    "
   ]
  },
  {
   "cell_type": "code",
   "execution_count": null,
   "metadata": {},
   "outputs": [],
   "source": [
    "n_qubits = 3\n",
    "dev = qml.device('default.qubit', wires=n_qubits)\n",
    "\n",
    "quantum_net = qml.QNode(circuit3, dev, interface=\"torch\")\n",
    "\n",
    "q_params = nn.Parameter(torch.randn((n_qubits + 2) * n_qubits))\n",
    "q_in = torch.ones((80, 3))"
   ]
  },
  {
   "cell_type": "code",
   "execution_count": null,
   "metadata": {},
   "outputs": [
    {
     "name": "stdout",
     "output_type": "stream",
     "text": [
      "torch.Size([80, 3])\n",
      "80\n",
      "0\n",
      "1\n",
      "2\n",
      "[expval(PauliY(wires=[0])), expval(PauliY(wires=[1])), expval(PauliY(wires=[2]))]\n",
      "(expval(PauliY(wires=[0])), expval(PauliY(wires=[1])), expval(PauliY(wires=[2])))\n",
      "LETS GOOOOOO\n"
     ]
    }
   ],
   "source": [
    "q_out = quantum_net(q_in, q_params)"
   ]
  },
  {
   "cell_type": "code",
   "execution_count": null,
   "metadata": {},
   "outputs": [],
   "source": [
    "q_out = torch.stack(q_out)\n",
    "q_out = q_out.reshape((q_out.shape[1], q_out.shape[0]))"
   ]
  },
  {
   "cell_type": "code",
   "execution_count": null,
   "metadata": {},
   "outputs": [
    {
     "data": {
      "text/plain": [
       "torch.Size([80, 3])"
      ]
     },
     "execution_count": 315,
     "metadata": {},
     "output_type": "execute_result"
    }
   ],
   "source": [
    "q_out.shape"
   ]
  },
  {
   "cell_type": "code",
   "execution_count": null,
   "metadata": {},
   "outputs": [
    {
     "name": "stderr",
     "output_type": "stream",
     "text": [
      "/var/folders/6f/3fhw90n17t140lh7zgl3n7080000gq/T/ipykernel_88765/3422026163.py:1: UserWarning: To copy construct from a tensor, it is recommended to use sourceTensor.clone().detach() or sourceTensor.clone().detach().requires_grad_(True), rather than torch.tensor(sourceTensor).\n",
      "  torch.tensor(tuple(q_out)[0])\n"
     ]
    },
    {
     "data": {
      "text/plain": [
       "tensor([-0.2425, -0.2425, -0.2425, -0.2425, -0.2425, -0.2425, -0.2425, -0.2425,\n",
       "        -0.2425, -0.2425, -0.2425, -0.2425, -0.2425, -0.2425, -0.2425, -0.2425,\n",
       "        -0.2425, -0.2425, -0.2425, -0.2425, -0.2425, -0.2425, -0.2425, -0.2425,\n",
       "        -0.2425, -0.2425, -0.2425, -0.2425, -0.2425, -0.2425, -0.2425, -0.2425,\n",
       "        -0.2425, -0.2425, -0.2425, -0.2425, -0.2425, -0.2425, -0.2425, -0.2425,\n",
       "        -0.2425, -0.2425, -0.2425, -0.2425, -0.2425, -0.2425, -0.2425, -0.2425,\n",
       "        -0.2425, -0.2425, -0.2425, -0.2425, -0.2425, -0.2425, -0.2425, -0.2425,\n",
       "        -0.2425, -0.2425, -0.2425, -0.2425, -0.2425, -0.2425, -0.2425, -0.2425,\n",
       "        -0.2425, -0.2425, -0.2425, -0.2425, -0.2425, -0.2425, -0.2425, -0.2425,\n",
       "        -0.2425, -0.2425, -0.2425, -0.2425, -0.2425, -0.2425, -0.2425, -0.2425],\n",
       "       dtype=torch.float64)"
      ]
     },
     "execution_count": 310,
     "metadata": {},
     "output_type": "execute_result"
    }
   ],
   "source": [
    "torch.tensor(tuple(q_out)[0])"
   ]
  },
  {
   "cell_type": "code",
   "execution_count": null,
   "metadata": {},
   "outputs": [
    {
     "data": {
      "text/plain": [
       "tensor([-0.2425, -0.2425, -0.2425, -0.2425, -0.2425, -0.2425, -0.2425, -0.2425,\n",
       "        -0.2425, -0.2425, -0.2425, -0.2425, -0.2425, -0.2425, -0.2425, -0.2425,\n",
       "        -0.2425, -0.2425, -0.2425, -0.2425, -0.2425, -0.2425, -0.2425, -0.2425,\n",
       "        -0.2425, -0.2425, -0.2425, -0.2425, -0.2425, -0.2425, -0.2425, -0.2425,\n",
       "        -0.2425, -0.2425, -0.2425, -0.2425, -0.2425, -0.2425, -0.2425, -0.2425,\n",
       "        -0.2425, -0.2425, -0.2425, -0.2425, -0.2425, -0.2425, -0.2425, -0.2425,\n",
       "        -0.2425, -0.2425, -0.2425, -0.2425, -0.2425, -0.2425, -0.2425, -0.2425,\n",
       "        -0.2425, -0.2425, -0.2425, -0.2425, -0.2425, -0.2425, -0.2425, -0.2425,\n",
       "        -0.2425, -0.2425, -0.2425, -0.2425, -0.2425, -0.2425, -0.2425, -0.2425,\n",
       "        -0.2425, -0.2425, -0.2425, -0.2425, -0.2425, -0.2425, -0.2425, -0.2425],\n",
       "       dtype=torch.float64, grad_fn=<ReshapeAliasBackward0>)"
      ]
     },
     "execution_count": 311,
     "metadata": {},
     "output_type": "execute_result"
    }
   ],
   "source": [
    "q_out[0]"
   ]
  },
  {
   "cell_type": "code",
   "execution_count": null,
   "metadata": {},
   "outputs": [
    {
     "data": {
      "text/plain": [
       "3"
      ]
     },
     "execution_count": 261,
     "metadata": {},
     "output_type": "execute_result"
    }
   ],
   "source": [
    "q_out.__len__()"
   ]
  },
  {
   "cell_type": "code",
   "execution_count": null,
   "metadata": {},
   "outputs": [
    {
     "data": {
      "text/plain": [
       "torch.Size([80])"
      ]
     },
     "execution_count": 262,
     "metadata": {},
     "output_type": "execute_result"
    }
   ],
   "source": [
    "q_out[0].shape"
   ]
  },
  {
   "cell_type": "code",
   "execution_count": null,
   "metadata": {},
   "outputs": [],
   "source": []
  }
 ],
 "metadata": {
  "kernelspec": {
   "display_name": "wp6-qnlp-G79kAyvs-py3.10",
   "language": "python",
   "name": "python3"
  },
  "language_info": {
   "codemirror_mode": {
    "name": "ipython",
    "version": 3
   },
   "file_extension": ".py",
   "mimetype": "text/x-python",
   "name": "python",
   "nbconvert_exporter": "python",
   "pygments_lexer": "ipython3",
   "version": "3.10.12"
  },
  "orig_nbformat": 4
 },
 "nbformat": 4,
 "nbformat_minor": 2
}
