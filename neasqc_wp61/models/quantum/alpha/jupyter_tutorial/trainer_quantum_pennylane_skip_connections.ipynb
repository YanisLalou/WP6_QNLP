{
 "cells": [
  {
   "attachments": {},
   "cell_type": "markdown",
   "metadata": {},
   "source": [
    "# Quantum transfer learning with Pennylane"
   ]
  },
  {
   "attachments": {},
   "cell_type": "markdown",
   "metadata": {},
   "source": [
    "Example based on the Quantum transfer learning pennylane tutorial but adapted for an NLP use case.\n",
    "\n",
    "++ Some sort of skip connection implementation in the pipeline"
   ]
  },
  {
   "cell_type": "code",
   "execution_count": 106,
   "metadata": {},
   "outputs": [],
   "source": [
    "import pandas as pd\n",
    "from sklearn.preprocessing import OneHotEncoder\n",
    "from tqdm import tqdm\n",
    "from sklearn.model_selection import train_test_split\n",
    "\n",
    "# PyTorch\n",
    "import torch\n",
    "import torch.nn as nn\n",
    "import torch.optim as optim\n",
    "from torch.optim import lr_scheduler\n",
    "from torch.utils.data import Dataset, DataLoader\n",
    "\n",
    "# Pennylane\n",
    "import pennylane as qml\n",
    "from pennylane import numpy as np\n",
    "\n",
    "\n",
    "# Plotting\n",
    "import matplotlib.pyplot as plt"
   ]
  },
  {
   "cell_type": "code",
   "execution_count": 107,
   "metadata": {},
   "outputs": [],
   "source": [
    "def seed_everything(seed: int):\n",
    "    import random, os\n",
    "    import numpy as np\n",
    "    import torch\n",
    "    \n",
    "    random.seed(seed)\n",
    "    os.environ['PYTHONHASHSEED'] = str(seed)\n",
    "    np.random.seed(seed)\n",
    "    torch.manual_seed(seed)\n",
    "    torch.cuda.manual_seed(seed)\n",
    "    torch.backends.cudnn.deterministic = True\n",
    "    torch.backends.cudnn.benchmark = True\n",
    "    torch.mps.manual_seed(seed)"
   ]
  },
  {
   "cell_type": "code",
   "execution_count": 108,
   "metadata": {},
   "outputs": [],
   "source": [
    "seed_everything(0)"
   ]
  },
  {
   "attachments": {},
   "cell_type": "markdown",
   "metadata": {},
   "source": [
    "## Setting of the main hyper-parameters of the model"
   ]
  },
  {
   "cell_type": "code",
   "execution_count": 109,
   "metadata": {},
   "outputs": [],
   "source": [
    "n_qubits = 3                # Number of qubits\n",
    "q_depth = 6                 # Depth of the quantum circuit (number of variational layers)\n",
    "q_delta = 0.01              # Initial spread of random quantum weights"
   ]
  },
  {
   "cell_type": "code",
   "execution_count": 110,
   "metadata": {},
   "outputs": [],
   "source": [
    "BATCH_SIZE = 1024\n",
    "EPOCHS = 50\n",
    "LR = 5e-3\n",
    "GAMMA_LR = 0.5    # Learning rate reduction applied every STEP_LR epochs.\n",
    "STEP_LR = 20\n",
    "WEIGHT_DECAY = 0"
   ]
  },
  {
   "cell_type": "code",
   "execution_count": 111,
   "metadata": {},
   "outputs": [],
   "source": [
    "dev = qml.device(\"default.qubit\", wires=n_qubits)"
   ]
  },
  {
   "cell_type": "code",
   "execution_count": 112,
   "metadata": {},
   "outputs": [
    {
     "name": "stdout",
     "output_type": "stream",
     "text": [
      "Device used: cpu\n"
     ]
    }
   ],
   "source": [
    "device = torch.device(\"cuda:0\" if torch.cuda.is_available() else \"cpu\")\n",
    "\n",
    "#Pennylane doesnt seem to support Mac Apple Silicon yet\n",
    "#device = torch.device(\"mps\" if torch.backends.mps.is_available() else \"cpu\")\n",
    "\n",
    "print('Device used:', device)\n"
   ]
  },
  {
   "attachments": {},
   "cell_type": "markdown",
   "metadata": {},
   "source": [
    "## Dataset loading"
   ]
  },
  {
   "attachments": {},
   "cell_type": "markdown",
   "metadata": {},
   "source": [
    "As input we have a dataset of sentences, their corresponding sentiment (1 or 2) and their BERT embedding (768 dimensions)"
   ]
  },
  {
   "cell_type": "code",
   "execution_count": 113,
   "metadata": {},
   "outputs": [
    {
     "data": {
      "text/html": [
       "<div>\n",
       "<style scoped>\n",
       "    .dataframe tbody tr th:only-of-type {\n",
       "        vertical-align: middle;\n",
       "    }\n",
       "\n",
       "    .dataframe tbody tr th {\n",
       "        vertical-align: top;\n",
       "    }\n",
       "\n",
       "    .dataframe thead th {\n",
       "        text-align: right;\n",
       "    }\n",
       "</style>\n",
       "<table border=\"1\" class=\"dataframe\">\n",
       "  <thead>\n",
       "    <tr style=\"text-align: right;\">\n",
       "      <th></th>\n",
       "      <th>class</th>\n",
       "      <th>sentence</th>\n",
       "      <th>sentence_embedding</th>\n",
       "    </tr>\n",
       "  </thead>\n",
       "  <tbody>\n",
       "    <tr>\n",
       "      <th>0</th>\n",
       "      <td>1</td>\n",
       "      <td>this one seemed inappropriate</td>\n",
       "      <td>[-7.07429171e-01 -9.20562893e-02  5.68922281e-...</td>\n",
       "    </tr>\n",
       "    <tr>\n",
       "      <th>1</th>\n",
       "      <td>1</td>\n",
       "      <td>Its Time Has Passed</td>\n",
       "      <td>[-0.93544328 -0.35473078 -0.44945127  0.866203...</td>\n",
       "    </tr>\n",
       "    <tr>\n",
       "      <th>2</th>\n",
       "      <td>1</td>\n",
       "      <td>This documentary is offensive</td>\n",
       "      <td>[-8.98015499e-01 -3.35524023e-01  5.96269146e-...</td>\n",
       "    </tr>\n",
       "    <tr>\n",
       "      <th>3</th>\n",
       "      <td>2</td>\n",
       "      <td>this one was ok</td>\n",
       "      <td>[-7.29380667e-01 -1.04420066e-01  7.20309854e-...</td>\n",
       "    </tr>\n",
       "    <tr>\n",
       "      <th>4</th>\n",
       "      <td>2</td>\n",
       "      <td>The lyrics are incredible</td>\n",
       "      <td>[-8.35999787e-01 -2.15908080e-01  1.77436873e-...</td>\n",
       "    </tr>\n",
       "  </tbody>\n",
       "</table>\n",
       "</div>"
      ],
      "text/plain": [
       "   class                       sentence  \\\n",
       "0      1  this one seemed inappropriate   \n",
       "1      1            Its Time Has Passed   \n",
       "2      1  This documentary is offensive   \n",
       "3      2                this one was ok   \n",
       "4      2      The lyrics are incredible   \n",
       "\n",
       "                                  sentence_embedding  \n",
       "0  [-7.07429171e-01 -9.20562893e-02  5.68922281e-...  \n",
       "1  [-0.93544328 -0.35473078 -0.44945127  0.866203...  \n",
       "2  [-8.98015499e-01 -3.35524023e-01  5.96269146e-...  \n",
       "3  [-7.29380667e-01 -1.04420066e-01  7.20309854e-...  \n",
       "4  [-8.35999787e-01 -2.15908080e-01  1.77436873e-...  "
      ]
     },
     "execution_count": 113,
     "metadata": {},
     "output_type": "execute_result"
    }
   ],
   "source": [
    "df_dataset = pd.read_csv('../../../../data/amazonreview_reduced_bert_train_sentence.csv')\n",
    "df_dataset.head(5)"
   ]
  },
  {
   "cell_type": "code",
   "execution_count": 172,
   "metadata": {},
   "outputs": [],
   "source": [
    "df_dataset = pd.read_csv('../../../../data/amazonreview_reduced_bert_train_sentence.csv')"
   ]
  },
  {
   "attachments": {},
   "cell_type": "markdown",
   "metadata": {},
   "source": [
    "We can observe that the dataset is almost perfectly balanced (51.8% and 48.2%). Thus the accuracy should be a good metric to evaluate our model."
   ]
  },
  {
   "cell_type": "code",
   "execution_count": 135,
   "metadata": {},
   "outputs": [
    {
     "name": "stdout",
     "output_type": "stream",
     "text": [
      "2    17\n",
      "1     3\n",
      "Name: class, dtype: int64\n"
     ]
    }
   ],
   "source": [
    "print(df_dataset[\"class\"].value_counts())"
   ]
  },
  {
   "cell_type": "code",
   "execution_count": 136,
   "metadata": {},
   "outputs": [],
   "source": [
    "def preprocess_dataset(csv_file):\n",
    "    \"\"\"\n",
    "    Preprocess function for the dataset + Create train/test split\n",
    "    \"\"\"\n",
    "    df_dataset = pd.read_csv(csv_file)\n",
    "\n",
    "    df_dataset['sentence_embedding'] = np.array([np.fromstring(embedding.strip(' []'), sep=' ') for embedding in df_dataset['sentence_embedding']]).numpy().tolist()\n",
    "\n",
    "    #Preprocess labels\n",
    "    enc = OneHotEncoder(handle_unknown='ignore')\n",
    "    enc.fit(df_dataset['class'].values.reshape(-1, 1))\n",
    "    df_dataset['class'] = enc.transform(df_dataset['class'].values.reshape(-1, 1)).toarray().tolist()\n",
    "\n",
    "    X_train, X_test, y_train, y_test = train_test_split(df_dataset['sentence_embedding'], df_dataset['class'], test_size=0.2)\n",
    "\n",
    "    return X_train, X_test, y_train, y_test\n",
    "\n"
   ]
  },
  {
   "cell_type": "code",
   "execution_count": 137,
   "metadata": {},
   "outputs": [],
   "source": [
    "class BertEmbeddingDataset(Dataset):\n",
    "    \"\"\"Bert Embedding dataset.\"\"\"\n",
    "\n",
    "    def __init__(self, X, Y):\n",
    "        self.X = X\n",
    "        self.Y = Y\n",
    "\n",
    "\n",
    "    def __len__(self):\n",
    "        return len(self.X)\n",
    "\n",
    "    def __getitem__(self, idx):\n",
    "        if torch.is_tensor(idx):\n",
    "            idx = idx.tolist()\n",
    "\n",
    "        return torch.Tensor(self.X.iloc[idx]), torch.Tensor(self.Y.iloc[idx])"
   ]
  },
  {
   "cell_type": "code",
   "execution_count": 173,
   "metadata": {},
   "outputs": [],
   "source": [
    "X_train, X_test, y_train, y_test = preprocess_dataset('../../../../data/amazonreview_reduced_bert_train_sentence.csv')"
   ]
  },
  {
   "cell_type": "code",
   "execution_count": 174,
   "metadata": {},
   "outputs": [],
   "source": [
    "train_dataset = BertEmbeddingDataset(X_train, y_train)\n",
    "training_dataloader = DataLoader(train_dataset, batch_size=BATCH_SIZE, shuffle=True)\n",
    "\n",
    "validation_dataset = BertEmbeddingDataset(X_test, y_test)\n",
    "validation_dataloader = DataLoader(validation_dataset, batch_size=BATCH_SIZE, shuffle=True)"
   ]
  },
  {
   "cell_type": "code",
   "execution_count": 159,
   "metadata": {},
   "outputs": [
    {
     "data": {
      "text/plain": [
       "torch.Size([1024, 1])"
      ]
     },
     "execution_count": 159,
     "metadata": {},
     "output_type": "execute_result"
    }
   ],
   "source": [
    "next(iter(training_dataloader))[0].shape"
   ]
  },
  {
   "attachments": {},
   "cell_type": "markdown",
   "metadata": {},
   "source": [
    "## Variational quantum circuit\n"
   ]
  },
  {
   "cell_type": "code",
   "execution_count": 119,
   "metadata": {},
   "outputs": [],
   "source": [
    "def H_layer(nqubits):\n",
    "    \"\"\"Layer of single-qubit Hadamard gates.\n",
    "    \"\"\"\n",
    "    for idx in range(nqubits):\n",
    "        qml.Hadamard(wires=idx)\n",
    "\n",
    "\n",
    "def RY_layer(w):\n",
    "    \"\"\"Layer of parametrized qubit rotations around the y axis.\n",
    "    \"\"\"\n",
    "    for idx, element in enumerate(w):\n",
    "        qml.RY(element, wires=idx)\n",
    "\n",
    "\n",
    "def entangling_layer(nqubits):\n",
    "    \"\"\"Layer of CNOTs followed by another shifted layer of CNOT.\n",
    "    \"\"\"\n",
    "    # In other words it should apply something like :\n",
    "    # CNOT  CNOT  CNOT  CNOT...  CNOT\n",
    "    #   CNOT  CNOT  CNOT...  CNOT\n",
    "    for i in range(0, nqubits - 1, 2):  # Loop over even indices: i=0,2,...N-2\n",
    "        qml.CNOT(wires=[i, i + 1])\n",
    "    for i in range(1, nqubits - 1, 2):  # Loop over odd indices:  i=1,3,...N-3\n",
    "        qml.CNOT(wires=[i, i + 1])"
   ]
  },
  {
   "cell_type": "code",
   "execution_count": 120,
   "metadata": {},
   "outputs": [],
   "source": [
    "def RX_layer(w):\n",
    "    \"\"\"Layer of parametrized qubit rotations around the x axis.\n",
    "    \"\"\"\n",
    "    for idx, element in enumerate(w):\n",
    "        qml.RX(element, wires=idx)\n",
    "\n",
    "def RZ_layer(w):\n",
    "    \"\"\"Layer of parametrized qubit rotations around the z axis.\n",
    "    \"\"\"\n",
    "    for idx, element in enumerate(w):\n",
    "        qml.RZ(element, wires=idx)"
   ]
  },
  {
   "cell_type": "code",
   "execution_count": 121,
   "metadata": {},
   "outputs": [],
   "source": [
    "@qml.qnode(dev, interface=\"torch\")\n",
    "def quantum_net(q_input_features, q_weights_flat):\n",
    "    \"\"\"\n",
    "    The variational quantum circuit.\n",
    "    \"\"\"\n",
    "\n",
    "    # Reshape weights\n",
    "    q_weights = q_weights_flat.reshape(q_depth, n_qubits)\n",
    "\n",
    "    # Start from state |+> , unbiased w.r.t. |0> and |1>\n",
    "    H_layer(n_qubits)\n",
    "\n",
    "    # Embed features in the quantum node\n",
    "    RY_layer(q_input_features)\n",
    "\n",
    "    # Sequence of trainable variational layers\n",
    "    for k in range(0, q_depth, 2):\n",
    "        entangling_layer(n_qubits)\n",
    "        RY_layer(q_weights[k])\n",
    "\n",
    "    \n",
    "    #Skip connection\n",
    "    RY_layer(q_input_features)\n",
    "    \n",
    "\n",
    "    for k in range(1, q_depth, 2):\n",
    "        entangling_layer(n_qubits)\n",
    "        #RX_layer(q_weights[k])\n",
    "        RY_layer(q_weights[k])\n",
    "\n",
    "    #Skip connection\n",
    "    RY_layer(q_input_features)\n",
    "\n",
    "    # Expectation values in the Z basis\n",
    "    exp_vals_Z = [qml.expval(qml.PauliZ(position)) for position in range(n_qubits)]\n",
    "    #exp_vals_Y = [qml.expval(qml.PauliY(position)) for position in range(n_qubits)]\n",
    "    #exp_vals = exp_vals_Z + exp_vals_Y\n",
    "\n",
    "\n",
    "    #return tuple(exp_vals)\n",
    "    return tuple(exp_vals_Z)"
   ]
  },
  {
   "cell_type": "code",
   "execution_count": 122,
   "metadata": {},
   "outputs": [],
   "source": [
    "@qml.qnode(dev, interface=\"torch\")\n",
    "def quantum_net_from_paper(inputs, q_weights):\n",
    "    #https://onlinelibrary.wiley.com/doi/epdf/10.1002/qute.201900070\n",
    "    #Circuit [6] but adapted for n_qubits = 3\n",
    "\n",
    "    # Reshape weights\n",
    "    #q_weights = q_weights_flat.reshape(q_depth, n_qubits)\n",
    "\n",
    "\n",
    "    # Embed features in the quantum node\n",
    "    RX_layer(inputs)\n",
    "\n",
    "    parameter_index = 0\n",
    "\n",
    "    RZ_layer(q_weights[parameter_index : parameter_index+n_qubits])\n",
    "\n",
    "    parameter_index += n_qubits\n",
    "\n",
    "    for k in range(0, n_qubits):\n",
    "        for j in range(0, n_qubits):\n",
    "            if k != j:\n",
    "                qml.CRX(phi=q_weights[parameter_index], wires=[k, j])\n",
    "                parameter_index += 1\n",
    "\n",
    "\n",
    "    RX_layer(q_weights[parameter_index : parameter_index+n_qubits])\n",
    "    parameter_index += n_qubits\n",
    "\n",
    "    RZ_layer(q_weights[parameter_index : parameter_index+n_qubits])\n",
    "    parameter_index += n_qubits\n",
    "\n",
    "    exp_vals_Y = [qml.expval(qml.PauliY(position)) for position in range(n_qubits)]\n",
    "\n",
    "    return tuple(exp_vals_Y)\n",
    "    "
   ]
  },
  {
   "attachments": {},
   "cell_type": "markdown",
   "metadata": {},
   "source": [
    "## Dressed quantum circuit"
   ]
  },
  {
   "attachments": {},
   "cell_type": "markdown",
   "metadata": {},
   "source": [
    "This is a concatenation of:\n",
    "\n",
    "* A classical pre-processing layer (nn.Linear).\n",
    "* A classical activation function (torch.tanh).\n",
    "* A constant np.pi/2.0 scaling.\n",
    "* The previously defined quantum circuit (quantum_net).\n",
    "* A classical post-processing layer (nn.Linear).\n",
    "* A classical activation function (torch.sigmoid)."
   ]
  },
  {
   "cell_type": "code",
   "execution_count": 123,
   "metadata": {},
   "outputs": [],
   "source": [
    "class DressedQuantumNet(nn.Module):\n",
    "    \"\"\"\n",
    "    Torch module implementing the *dressed* quantum net.\n",
    "    \"\"\"\n",
    "\n",
    "    def __init__(self):\n",
    "        \"\"\"\n",
    "        Definition of the *dressed* layout.\n",
    "        \"\"\"\n",
    "\n",
    "        super().__init__()\n",
    "        self.pre_net = nn.Linear(768, n_qubits)\n",
    "        self.q_params = nn.Parameter(q_delta * torch.randn(q_depth * n_qubits))\n",
    "        self.post_net = nn.Linear(n_qubits, 2)\n",
    "        self.sigmoid = nn.Sigmoid()\n",
    "\n",
    "    def forward(self, input_features):\n",
    "        \"\"\"\n",
    "        Defining how tensors are supposed to move through the *dressed* quantum\n",
    "        net.\n",
    "        \"\"\"\n",
    "\n",
    "        # obtain the input features for the quantum circuit\n",
    "        # by reducing the feature dimension from 512 to 4\n",
    "        pre_out = self.pre_net(input_features)\n",
    "        q_in = torch.tanh(pre_out) * np.pi / 2.0\n",
    "        #q_in = torch.tanh(pre_out) * np.pi\n",
    "\n",
    "        # Apply the quantum circuit to each element of the batch and append to q_out\n",
    "        q_out = torch.Tensor(0, n_qubits)\n",
    "        q_out = q_out.to(device)\n",
    "        for elem in q_in:\n",
    "            q_out_elem = torch.hstack(quantum_net(elem, self.q_params)).float().unsqueeze(0)\n",
    "            q_out = torch.cat((q_out, q_out_elem))\n",
    "\n",
    "        # return the two-dimensional prediction from the postprocessing layer\n",
    "        return self.sigmoid(self.post_net(q_out))"
   ]
  },
  {
   "cell_type": "code",
   "execution_count": 124,
   "metadata": {},
   "outputs": [],
   "source": [
    "class DressedQuantumNet_from_paper(nn.Module):\n",
    "    \"\"\"\n",
    "    Torch module implementing the *dressed* quantum net.\n",
    "    \"\"\"\n",
    "\n",
    "    def __init__(self):\n",
    "        \"\"\"\n",
    "        Definition of the *dressed* layout.\n",
    "        \"\"\"\n",
    "\n",
    "        super().__init__()\n",
    "        self.pre_net = nn.Linear(768, n_qubits)\n",
    "        self.q_params = nn.Parameter(q_delta * torch.randn((n_qubits + 2) * n_qubits))\n",
    "        self.post_net = nn.Linear(n_qubits, 2)\n",
    "        self.sigmoid = nn.Sigmoid()\n",
    "\n",
    "        weight_shapes = {\"q_weights\": ((n_qubits + 2) * n_qubits)}\n",
    "        self.qlayer = qml.qnn.TorchLayer(quantum_net_from_paper, weight_shapes)\n",
    "\n",
    "    def forward(self, input_features):\n",
    "        \"\"\"\n",
    "        Defining how tensors are supposed to move through the *dressed* quantum\n",
    "        net.\n",
    "        \"\"\"\n",
    "\n",
    "        # obtain the input features for the quantum circuit\n",
    "        # by reducing the feature dimension from 512 to 4\n",
    "        pre_out = self.pre_net(input_features)\n",
    "        q_in = torch.tanh(pre_out) * np.pi / 2.0\n",
    "        #q_in = torch.tanh(pre_out) * np.pi\n",
    "\n",
    "        # Apply the quantum circuit to each element of the batch and append to q_out\n",
    "        q_out = torch.Tensor(0, n_qubits)\n",
    "        q_out = q_out.to(device)\n",
    "        # for elem in q_in:\n",
    "        #     q_out_elem = torch.hstack(quantum_net_from_paper(elem, self.q_params)).float().unsqueeze(0)\n",
    "        #     q_out = torch.cat((q_out, q_out_elem))\n",
    "\n",
    "        q_out_elem = self.qlayer(q_in)\n",
    "        #q_out_elem = torch.hstack(quantum_net_from_paper(q_in, self.q_params)).float().unsqueeze(0)\n",
    "        \n",
    "        q_out = torch.cat((q_out, q_out_elem))\n",
    "\n",
    "        # return the two-dimensional prediction from the postprocessing layer\n",
    "        return self.sigmoid(self.post_net(q_out))"
   ]
  },
  {
   "cell_type": "code",
   "execution_count": 125,
   "metadata": {},
   "outputs": [],
   "source": [
    "#model_hybrid = DressedQuantumNet()\n",
    "model_hybrid = DressedQuantumNet_from_paper()\n",
    "\n",
    "# Use CUDA or CPU according to the \"device\" object.\n",
    "model_hybrid = model_hybrid.to(device)"
   ]
  },
  {
   "cell_type": "code",
   "execution_count": 126,
   "metadata": {},
   "outputs": [
    {
     "name": "stdout",
     "output_type": "stream",
     "text": [
      "torch.Size([15])\n"
     ]
    }
   ],
   "source": [
    "print(model_hybrid.q_params.shape)"
   ]
  },
  {
   "attachments": {},
   "cell_type": "markdown",
   "metadata": {},
   "source": [
    "## Training and results"
   ]
  },
  {
   "attachments": {},
   "cell_type": "markdown",
   "metadata": {},
   "source": [
    "Here we use a Binary Cross Entropy Loss, an Adam optimizer and a scheduler reducing the learning rate at an exponentially rate. "
   ]
  },
  {
   "cell_type": "code",
   "execution_count": 127,
   "metadata": {},
   "outputs": [],
   "source": [
    "criterion = nn.BCELoss()\n",
    "optimizer_hybrid = optim.Adam(model_hybrid.parameters(), lr=LR, weight_decay=WEIGHT_DECAY)\n",
    "exp_lr_scheduler = lr_scheduler.StepLR(\n",
    "    optimizer_hybrid, step_size=STEP_LR, gamma=GAMMA_LR\n",
    ")\n",
    "\n",
    "#exp_lr_scheduler = lr_scheduler.CosineAnnealingLR(\n",
    "#    optimizer_hybrid, T_max=EPOCHS, eta_min=1e-5)\n",
    "\n"
   ]
  },
  {
   "attachments": {},
   "cell_type": "markdown",
   "metadata": {},
   "source": [
    "We use tensorboard to log the hyperparameters, the loss and the accuracy of the model:"
   ]
  },
  {
   "cell_type": "code",
   "execution_count": 128,
   "metadata": {},
   "outputs": [],
   "source": [
    "from torch.utils.tensorboard import SummaryWriter\n",
    "import datetime\n",
    "\n",
    "log_dir = \"logs/fit_pennylane_skip_connections/\" + datetime.datetime.now().strftime(\"%Y%m%d-%H%M%S\")\n",
    "summary_writer = SummaryWriter(log_dir=log_dir)"
   ]
  },
  {
   "cell_type": "code",
   "execution_count": 129,
   "metadata": {},
   "outputs": [
    {
     "name": "stderr",
     "output_type": "stream",
     "text": [
      "Training: 100%|██████████| 3/3 [00:21<00:00,  7.12s/it, loss=0.696, acc=0.499]\n",
      "Validation: 100%|██████████| 1/1 [00:03<00:00,  3.65s/it, loss=0.696, acc=0.446]\n",
      "Training: 100%|██████████| 3/3 [00:22<00:00,  7.60s/it, loss=0.694, acc=0.503]\n",
      "Validation: 100%|██████████| 1/1 [00:03<00:00,  3.41s/it, loss=0.695, acc=0.446]\n",
      "Training: 100%|██████████| 3/3 [00:21<00:00,  7.18s/it, loss=0.694, acc=0.495]\n",
      "Validation: 100%|██████████| 1/1 [00:02<00:00,  2.88s/it, loss=0.694, acc=0.446]\n",
      "Training: 100%|██████████| 3/3 [00:23<00:00,  7.93s/it, loss=0.693, acc=0.517]\n",
      "Validation: 100%|██████████| 1/1 [00:03<00:00,  3.37s/it, loss=0.694, acc=0.446]\n",
      "Training: 100%|██████████| 3/3 [00:23<00:00,  7.88s/it, loss=0.693, acc=0.491]\n",
      "Validation: 100%|██████████| 1/1 [00:03<00:00,  3.20s/it, loss=0.693, acc=0.446]\n",
      "Training: 100%|██████████| 3/3 [00:21<00:00,  7.22s/it, loss=0.693, acc=0.528]\n",
      "Validation: 100%|██████████| 1/1 [00:03<00:00,  3.47s/it, loss=0.693, acc=0.554]\n",
      "Training: 100%|██████████| 3/3 [00:23<00:00,  7.76s/it, loss=0.693, acc=0.505]\n",
      "Validation: 100%|██████████| 1/1 [00:03<00:00,  3.32s/it, loss=0.692, acc=0.554]\n",
      "Training: 100%|██████████| 3/3 [00:21<00:00,  7.14s/it, loss=0.693, acc=0.507]\n",
      "Validation: 100%|██████████| 1/1 [00:03<00:00,  3.12s/it, loss=0.692, acc=0.554]\n",
      "Training: 100%|██████████| 3/3 [00:23<00:00,  7.87s/it, loss=0.692, acc=0.531]\n",
      "Validation: 100%|██████████| 1/1 [00:03<00:00,  3.32s/it, loss=0.691, acc=0.554]\n",
      "Training: 100%|██████████| 3/3 [00:23<00:00,  7.68s/it, loss=0.693, acc=0.523]\n",
      "Validation: 100%|██████████| 1/1 [00:02<00:00,  2.62s/it, loss=0.691, acc=0.554]\n",
      "Training: 100%|██████████| 3/3 [00:22<00:00,  7.50s/it, loss=0.694, acc=0.493]\n",
      "Validation: 100%|██████████| 1/1 [00:03<00:00,  3.39s/it, loss=0.691, acc=0.554]\n",
      "Training: 100%|██████████| 3/3 [00:23<00:00,  7.71s/it, loss=0.693, acc=0.501]\n",
      "Validation: 100%|██████████| 1/1 [00:03<00:00,  3.28s/it, loss=0.691, acc=0.554]\n",
      "Training: 100%|██████████| 3/3 [00:20<00:00,  6.99s/it, loss=0.694, acc=0.500]\n",
      "Validation: 100%|██████████| 1/1 [00:03<00:00,  3.58s/it, loss=0.690, acc=0.554]\n",
      "Training: 100%|██████████| 3/3 [00:23<00:00,  7.78s/it, loss=0.693, acc=0.507]\n",
      "Validation: 100%|██████████| 1/1 [00:03<00:00,  3.32s/it, loss=0.691, acc=0.554]\n",
      "Training: 100%|██████████| 3/3 [00:22<00:00,  7.47s/it, loss=0.692, acc=0.523]\n",
      "Validation: 100%|██████████| 1/1 [00:02<00:00,  2.61s/it, loss=0.691, acc=0.554]\n",
      "Training: 100%|██████████| 3/3 [00:22<00:00,  7.57s/it, loss=0.693, acc=0.503]\n",
      "Validation: 100%|██████████| 1/1 [00:03<00:00,  3.32s/it, loss=0.691, acc=0.554]\n",
      "Training: 100%|██████████| 3/3 [00:22<00:00,  7.51s/it, loss=0.693, acc=0.503]\n",
      "Validation: 100%|██████████| 1/1 [00:03<00:00,  3.30s/it, loss=0.691, acc=0.554]\n",
      "Training: 100%|██████████| 3/3 [00:20<00:00,  6.95s/it, loss=0.693, acc=0.513]\n",
      "Validation: 100%|██████████| 1/1 [00:02<00:00,  2.86s/it, loss=0.691, acc=0.554]\n",
      "Training: 100%|██████████| 3/3 [00:22<00:00,  7.40s/it, loss=0.693, acc=0.499]\n",
      "Validation: 100%|██████████| 1/1 [00:03<00:00,  3.15s/it, loss=0.691, acc=0.554]\n",
      "Training: 100%|██████████| 3/3 [00:21<00:00,  7.23s/it, loss=0.693, acc=0.505]\n",
      "Validation: 100%|██████████| 1/1 [00:02<00:00,  2.64s/it, loss=0.691, acc=0.554]\n",
      "Training: 100%|██████████| 3/3 [00:23<00:00,  7.88s/it, loss=0.693, acc=0.511]\n",
      "Validation: 100%|██████████| 1/1 [00:03<00:00,  3.35s/it, loss=0.691, acc=0.554]\n",
      "Training: 100%|██████████| 3/3 [00:22<00:00,  7.57s/it, loss=0.691, acc=0.551]\n",
      "Validation: 100%|██████████| 1/1 [00:03<00:00,  3.29s/it, loss=0.691, acc=0.554]\n",
      "Training: 100%|██████████| 3/3 [00:21<00:00,  7.21s/it, loss=0.692, acc=0.528]\n",
      "Validation: 100%|██████████| 1/1 [00:02<00:00,  2.99s/it, loss=0.691, acc=0.554]\n",
      "Training: 100%|██████████| 3/3 [00:23<00:00,  7.80s/it, loss=0.693, acc=0.519]\n",
      "Validation: 100%|██████████| 1/1 [00:03<00:00,  3.39s/it, loss=0.691, acc=0.554]\n",
      "Training: 100%|██████████| 3/3 [00:22<00:00,  7.53s/it, loss=0.693, acc=0.509]\n",
      "Validation: 100%|██████████| 1/1 [00:02<00:00,  2.69s/it, loss=0.691, acc=0.554]\n",
      "Training: 100%|██████████| 3/3 [00:23<00:00,  7.73s/it, loss=0.693, acc=0.504]\n",
      "Validation: 100%|██████████| 1/1 [00:03<00:00,  3.37s/it, loss=0.691, acc=0.554]\n",
      "Training: 100%|██████████| 3/3 [00:22<00:00,  7.63s/it, loss=0.692, acc=0.533]\n",
      "Validation: 100%|██████████| 1/1 [00:03<00:00,  3.32s/it, loss=0.691, acc=0.554]\n",
      "Training: 100%|██████████| 3/3 [00:21<00:00,  7.12s/it, loss=0.693, acc=0.503]\n",
      "Validation: 100%|██████████| 1/1 [00:03<00:00,  3.08s/it, loss=0.691, acc=0.554]\n",
      "Training: 100%|██████████| 3/3 [00:23<00:00,  7.72s/it, loss=0.693, acc=0.508]\n",
      "Validation: 100%|██████████| 1/1 [00:03<00:00,  3.32s/it, loss=0.691, acc=0.554]\n",
      "Training: 100%|██████████| 3/3 [00:22<00:00,  7.39s/it, loss=0.693, acc=0.504]\n",
      "Validation: 100%|██████████| 1/1 [00:02<00:00,  2.73s/it, loss=0.691, acc=0.554]\n",
      "Training: 100%|██████████| 3/3 [00:23<00:00,  7.72s/it, loss=0.693, acc=0.512]\n",
      "Validation: 100%|██████████| 1/1 [00:03<00:00,  3.37s/it, loss=0.691, acc=0.554]\n",
      "Training: 100%|██████████| 3/3 [00:22<00:00,  7.66s/it, loss=0.693, acc=0.505]\n",
      "Validation: 100%|██████████| 1/1 [00:03<00:00,  3.37s/it, loss=0.691, acc=0.554]\n",
      "Training: 100%|██████████| 3/3 [00:20<00:00,  6.95s/it, loss=0.692, acc=0.537]\n",
      "Validation: 100%|██████████| 1/1 [00:03<00:00,  3.36s/it, loss=0.691, acc=0.554]\n",
      "Training: 100%|██████████| 3/3 [00:23<00:00,  7.73s/it, loss=0.693, acc=0.500]\n",
      "Validation: 100%|██████████| 1/1 [00:03<00:00,  3.31s/it, loss=0.691, acc=0.554]\n",
      "Training: 100%|██████████| 3/3 [00:21<00:00,  7.20s/it, loss=0.693, acc=0.511]\n",
      "Validation: 100%|██████████| 1/1 [00:02<00:00,  2.59s/it, loss=0.691, acc=0.554]\n",
      "Training: 100%|██████████| 3/3 [00:23<00:00,  7.87s/it, loss=0.692, acc=0.524]\n",
      "Validation: 100%|██████████| 1/1 [00:03<00:00,  3.34s/it, loss=0.691, acc=0.554]\n",
      "Training: 100%|██████████| 3/3 [00:22<00:00,  7.56s/it, loss=0.693, acc=0.504]\n",
      "Validation: 100%|██████████| 1/1 [00:03<00:00,  3.11s/it, loss=0.691, acc=0.554]\n",
      "Training: 100%|██████████| 3/3 [00:21<00:00,  7.29s/it, loss=0.693, acc=0.511]\n",
      "Validation: 100%|██████████| 1/1 [00:03<00:00,  3.27s/it, loss=0.691, acc=0.554]\n",
      "Training: 100%|██████████| 3/3 [00:23<00:00,  7.68s/it, loss=0.693, acc=0.501]\n",
      "Validation: 100%|██████████| 1/1 [00:02<00:00,  2.96s/it, loss=0.691, acc=0.554]\n",
      "Training: 100%|██████████| 3/3 [00:21<00:00,  7.08s/it, loss=0.694, acc=0.491]\n",
      "Validation: 100%|██████████| 1/1 [00:02<00:00,  2.53s/it, loss=0.691, acc=0.554]\n",
      "Training: 100%|██████████| 3/3 [00:23<00:00,  8.00s/it, loss=0.693, acc=0.520]\n",
      "Validation: 100%|██████████| 1/1 [00:03<00:00,  3.32s/it, loss=0.691, acc=0.554]\n",
      "Training: 100%|██████████| 3/3 [00:22<00:00,  7.63s/it, loss=0.693, acc=0.503]\n",
      "Validation: 100%|██████████| 1/1 [00:03<00:00,  3.36s/it, loss=0.691, acc=0.554]\n",
      "Training: 100%|██████████| 3/3 [00:21<00:00,  7.16s/it, loss=0.692, acc=0.543]\n",
      "Validation: 100%|██████████| 1/1 [00:03<00:00,  3.41s/it, loss=0.691, acc=0.554]\n",
      "Training: 100%|██████████| 3/3 [00:22<00:00,  7.63s/it, loss=0.693, acc=0.496]\n",
      "Validation: 100%|██████████| 1/1 [00:03<00:00,  3.28s/it, loss=0.691, acc=0.554]\n",
      "Training: 100%|██████████| 3/3 [00:20<00:00,  6.87s/it, loss=0.693, acc=0.499]\n",
      "Validation: 100%|██████████| 1/1 [00:02<00:00,  2.93s/it, loss=0.691, acc=0.554]\n",
      "Training: 100%|██████████| 3/3 [00:23<00:00,  7.84s/it, loss=0.692, acc=0.525]\n",
      "Validation: 100%|██████████| 1/1 [00:03<00:00,  3.29s/it, loss=0.691, acc=0.554]\n",
      "Training: 100%|██████████| 3/3 [00:22<00:00,  7.51s/it, loss=0.693, acc=0.496]\n",
      "Validation: 100%|██████████| 1/1 [00:03<00:00,  3.14s/it, loss=0.691, acc=0.554]\n",
      "Epochs: 100%|██████████| 50/50 [21:04<00:00, 25.29s/it, loss=0.693, acc=0.510]\n"
     ]
    }
   ],
   "source": [
    "#Training loop\n",
    "best_val_loss = 1000\n",
    "best_val_acc = 0\n",
    "best_train_loss = 1000\n",
    "best_acc_train = 0\n",
    "\n",
    "training_loss_list = []\n",
    "validation_loss_list = []\n",
    "training_acc_list = []\n",
    "validation_acc_list = []\n",
    "print(\"Training started:\")\n",
    "\n",
    "\n",
    "epoch_bar = tqdm(range(EPOCHS), total=EPOCHS, desc=\"Epochs\", position=0, leave=True)\n",
    "\n",
    "for epoch in epoch_bar:\n",
    "\n",
    "    model_hybrid.train()\n",
    "\n",
    "    running_loss = 0.0\n",
    "    running_corrects = 0\n",
    "\n",
    "    # Iterate over data.\n",
    "    it = 0\n",
    "    training_bar = tqdm(training_dataloader, total=len(training_dataloader), desc=\"Training\", position=0, leave=True)\n",
    "\n",
    "    for inputs, labels in training_bar:\n",
    "        batch_size_ = len(inputs)\n",
    "        inputs = inputs.to(device)\n",
    "        labels = labels.to(device)\n",
    "        optimizer_hybrid.zero_grad()\n",
    "\n",
    "        # Track/compute gradient and make an optimization step only when training\n",
    "        with torch.set_grad_enabled(True):\n",
    "            outputs = model_hybrid(inputs)\n",
    "            _, preds = torch.max(outputs, 1)\n",
    "            loss = criterion(outputs, labels)\n",
    "            \n",
    "            \n",
    "            loss.backward()\n",
    "            optimizer_hybrid.step()\n",
    "\n",
    "        # Print iteration results\n",
    "        running_loss += loss.item()*batch_size_\n",
    "\n",
    "        batch_corrects = torch.sum(preds == torch.max(labels, 1)[1]).item()\n",
    "        running_corrects += batch_corrects\n",
    "\n",
    "        training_bar.set_postfix({\"loss\": f\"{loss:.3f}\", \"acc\": f\"{batch_corrects/batch_size_:.3f}\"})\n",
    "\n",
    "\n",
    "    # Print epoch results\n",
    "    train_loss = running_loss / len(training_dataloader.dataset)\n",
    "    train_acc = running_corrects / len(training_dataloader.dataset)\n",
    "\n",
    "    epoch_bar.set_postfix({\"loss\": f\"{train_loss:.3f}\", \"acc\": f\"{train_acc:.3f}\"})\n",
    "\n",
    "    summary_writer.add_scalar(\"Training/Loss\", train_loss, epoch)\n",
    "    summary_writer.add_scalar(\"Training/Acurracy\", train_acc, epoch)\n",
    "\n",
    "    training_loss_list.append(train_loss)\n",
    "    training_acc_list.append(train_acc)\n",
    "\n",
    "    exp_lr_scheduler.step()\n",
    "\n",
    "    if train_loss < best_train_loss:\n",
    "        best_train_loss = train_loss\n",
    "\n",
    "    if train_acc > best_acc_train:\n",
    "        best_acc_train = train_acc\n",
    "\n",
    "    \n",
    "    ## VALIDATION PHASE\n",
    "    validation_bar = tqdm(validation_dataloader, total=len(validation_dataloader), desc=\"Validation\", position=0, leave=True)\n",
    "    model_hybrid.eval()\n",
    "\n",
    "    running_loss = 0.0\n",
    "    running_corrects = 0\n",
    "\n",
    "\n",
    "    for inputs, labels in validation_bar:\n",
    "        batch_size_ = len(inputs)\n",
    "        inputs = inputs.to(device)\n",
    "        labels = labels.to(device)\n",
    "        optimizer_hybrid.zero_grad()\n",
    "\n",
    "        # Track/compute gradient and make an optimization step only when training\n",
    "        with torch.set_grad_enabled(False):\n",
    "            outputs = model_hybrid(inputs)\n",
    "            _, preds = torch.max(outputs, 1)\n",
    "            loss = criterion(outputs, labels)\n",
    "\n",
    "        # Print iteration results\n",
    "        running_loss += loss.item()*batch_size_\n",
    "        batch_corrects = torch.sum(preds == torch.max(labels, 1)[1]).item()\n",
    "        running_corrects += batch_corrects\n",
    "\n",
    "        validation_bar.set_postfix({\"loss\": f\"{loss:.3f}\", \"acc\": f\"{batch_corrects/batch_size_:.3f}\"})\n",
    "        it += 1\n",
    "\n",
    "    validation_loss = running_loss / len(validation_dataloader.dataset)\n",
    "    validation_acc = running_corrects / len(validation_dataloader.dataset)\n",
    "\n",
    "    summary_writer.add_scalar(\"Validation/Loss\", validation_loss, epoch)\n",
    "    summary_writer.add_scalar(\"Validation/Acurracy\", validation_acc, epoch)\n",
    "\n",
    "    validation_loss_list.append(validation_loss)\n",
    "    validation_acc_list.append(validation_acc)\n",
    "\n",
    "    if validation_acc > best_val_acc:\n",
    "        best_val_acc = validation_acc\n",
    "\n",
    "    if validation_loss < best_val_loss:\n",
    "        best_val_loss = validation_loss\n",
    "\n",
    "\n",
    "\n"
   ]
  },
  {
   "cell_type": "code",
   "execution_count": 130,
   "metadata": {},
   "outputs": [],
   "source": [
    "summary_writer.add_hparams({'lr': LR, 'gamma_lr': GAMMA_LR, 'step_lr': STEP_LR, 'weight_decay': WEIGHT_DECAY},\n",
    "                      {'hparam/loss_train': best_train_loss, 'hparam/acc_train': best_acc_train,\n",
    "                       'hparam/loss_valid': best_val_loss, 'hparam/acc_valid': best_val_acc})"
   ]
  },
  {
   "attachments": {},
   "cell_type": "markdown",
   "metadata": {},
   "source": [
    "## Display loss and accuracy results"
   ]
  },
  {
   "cell_type": "code",
   "execution_count": 133,
   "metadata": {},
   "outputs": [
    {
     "data": {
      "image/png": "[encoded data removed]",
      "text/plain": [
       "<Figure size 1000x500 with 2 Axes>"
      ]
     },
     "metadata": {},
     "output_type": "display_data"
    }
   ],
   "source": [
    "fig, ax1 = plt.subplots(1,2)\n",
    "\n",
    "# Plot Training and Validation Loss\n",
    "ax1[0].plot(training_loss_list, label='Training loss')\n",
    "ax1[0].plot(validation_loss_list, label='Validation loss')\n",
    "ax1[0].legend()\n",
    "ax1[0].set_ylabel('Loss')\n",
    "ax1[0].set_xlabel('Epoch')\n",
    "\n",
    "# Plot Training and Validation Accuracy\n",
    "ax1[1].plot(training_acc_list, label='Training accuracy')\n",
    "ax1[1].plot(validation_acc_list, label='Validation accuracy')\n",
    "ax1[1].legend()\n",
    "ax1[1].set_ylabel('Accuracy')\n",
    "ax1[1].set_xlabel('Epoch')\n",
    "\n",
    "\n",
    "fig.suptitle('Training results')\n",
    "fig.set_size_inches(10, 5)"
   ]
  },
  {
   "cell_type": "code",
   "execution_count": null,
   "metadata": {},
   "outputs": [],
   "source": []
  }
 ],
 "metadata": {
  "kernelspec": {
   "display_name": "wp6-qnlp-G79kAyvs-py3.10",
   "language": "python",
   "name": "python3"
  },
  "language_info": {
   "codemirror_mode": {
    "name": "ipython",
    "version": 3
   },
   "file_extension": ".py",
   "mimetype": "text/x-python",
   "name": "python",
   "nbconvert_exporter": "python",
   "pygments_lexer": "ipython3",
   "version": "3.10.12"
  },
  "orig_nbformat": 4
 },
 "nbformat": 4,
 "nbformat_minor": 2
}
